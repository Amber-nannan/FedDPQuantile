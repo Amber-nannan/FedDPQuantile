{
 "cells": [
  {
   "cell_type": "code",
   "execution_count": 9,
   "metadata": {},
   "outputs": [],
   "source": [
    "import pickle\n",
    "from util_fdp import *"
   ]
  },
  {
   "cell_type": "code",
   "execution_count": 14,
   "metadata": {},
   "outputs": [
    {
     "name": "stdout",
     "output_type": "stream",
     "text": [
      "{5000: {0.5: {0.25: {1: np.float64(0.94), 5: np.float64(0.97), 'log': np.float64(0.98)}, 'hetero': {1: np.float64(0.94), 5: np.float64(0.971), 'log': np.float64(0.982)}, 0.9: {1: np.float64(0.959), 5: np.float64(0.975), 'log': np.float64(0.99)}}}, 50000: {0.5: {0.25: {1: np.float64(0.944), 5: np.float64(0.952), 'log': np.float64(0.981)}, 'hetero': {1: np.float64(0.952)}}}}\n",
      "{5000: {0.5: {0.25: {1: np.float64(0.021769814828300885), 5: np.float64(0.013155042440186804), 'log': np.float64(0.011531143825908113)}, 'hetero': {1: np.float64(0.009844913598033574), 5: np.float64(0.0059711697600963376), 'log': np.float64(0.005083743889877464)}, 0.9: {1: np.float64(0.005789270744168932), 5: np.float64(0.0035169194332190673), 'log': np.float64(0.003072883644848466)}}}, 50000: {0.5: {0.25: {1: np.float64(0.0061922768040640844), 5: np.float64(0.003222107023245868), 'log': np.float64(0.0023254311260363656)}, 'hetero': {1: np.float64(0.0027892029265436844)}}}}\n"
     ]
    }
   ],
   "source": [
    "cvg_case2 = load_pickle('case_2_federated_hete_d_cvg.pkl')\n",
    "mae_case2 = load_pickle('case_2_federated_hete_d_mae.pkl')\n",
    "\n",
    "# cvg_case2 = load_pickle('case_federated_homo_cvg.pkl')\n",
    "# mae_case2 = load_pickle('case_federated_homo_mae.pkl')\n",
    "print(cvg_case2)\n",
    "print(mae_case2)"
   ]
  },
  {
   "cell_type": "code",
   "execution_count": null,
   "metadata": {},
   "outputs": [],
   "source": [
    "# print(cvg_case2)\n",
    "# print(mae_case2)"
   ]
  },
  {
   "cell_type": "code",
   "execution_count": 8,
   "metadata": {},
   "outputs": [],
   "source": [
    "def generate_combined_table(data_ci, data_mae, caption=\"Results\",\n",
    "                            label=\"tab:combined\"):\n",
    "    # 自动获取所有n值并按数字顺序排序\n",
    "    all_n = sorted(set(list(data_ci.keys()) + list(data_mae.keys())), key=int)\n",
    "    latex_code = f\"\"\n",
    "    for n in all_n:\n",
    "        # 添加n标题行\n",
    "        latex_code += f\"\\\\multicolumn{{6}}{{c}}{{\\\\textbf{{T = {n}}}}} \\\\\\\\\\n\"\n",
    "        latex_code += \"\\\\midrule\\n\"\n",
    "        \n",
    "        # 遍历所有tau和r组合\n",
    "        for tau in sorted(data_ci[n].keys(), key=float):\n",
    "            for r_val in data_ci[n][tau].keys():\n",
    "                # 生成行内容\n",
    "                row = f\"{tau} & {r_val if isinstance(r_val, str) else r_val} \"\n",
    "                \n",
    "                # 遍历所有E值\n",
    "                for e in data_ci[n][tau][r_val].keys():\n",
    "                    ci = data_ci[n][tau][r_val].get(e, \"--\")\n",
    "                    mae = data_mae[n][tau][r_val].get(e, \"--\")\n",
    "                    cell = f\"& {ci:.3f}({mae:.4f}) \" if isinstance(ci, float) and isinstance(mae, float) else \"& -- \"\n",
    "                    row += cell\n",
    "                \n",
    "                latex_code += row + \"\\\\\\\\\\n\"\n",
    "            \n",
    "            # 添加tau之间的分隔线\n",
    "            latex_code += \"\\\\hline\\n\"\n",
    "    latex_code += \"\"\"\\\\bottomrule\n",
    "\\\\end{tabular}\n",
    "\\\\end{table}\"\"\"\n",
    "    return latex_code"
   ]
  },
  {
   "cell_type": "code",
   "execution_count": 9,
   "metadata": {},
   "outputs": [],
   "source": [
    "latex_output = generate_combined_table(cvg_case2, mae_case2)\n",
    "with open(\"combined_table.tex\", \"w\") as f:\n",
    "    f.write(latex_output)"
   ]
  },
  {
   "cell_type": "code",
   "execution_count": null,
   "metadata": {},
   "outputs": [],
   "source": []
  }
 ],
 "metadata": {
  "kernelspec": {
   "display_name": "myconda",
   "language": "python",
   "name": "myconda"
  },
  "language_info": {
   "codemirror_mode": {
    "name": "ipython",
    "version": 3
   },
   "file_extension": ".py",
   "mimetype": "text/x-python",
   "name": "python",
   "nbconvert_exporter": "python",
   "pygments_lexer": "ipython3",
   "version": "3.12.4"
  }
 },
 "nbformat": 4,
 "nbformat_minor": 4
}
