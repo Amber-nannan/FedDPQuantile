{
 "cells": [
  {
   "cell_type": "code",
   "execution_count": 1,
   "metadata": {},
   "outputs": [
    {
     "name": "stderr",
     "output_type": "stream",
     "text": [
      "/root/miniconda3/envs/myconda/lib/python3.12/site-packages/tqdm/auto.py:21: TqdmWarning: IProgress not found. Please update jupyter and ipywidgets. See https://ipywidgets.readthedocs.io/en/stable/user_install.html\n",
      "  from .autonotebook import tqdm as notebook_tqdm\n",
      "2025-05-15 01:25:30,021\tINFO util.py:154 -- Missing packages: ['ipywidgets']. Run `pip install -U ipywidgets`, then restart the notebook server for rich notebook output.\n"
     ]
    }
   ],
   "source": [
    "import pickle\n",
    "from util_fdp import *"
   ]
  },
  {
   "cell_type": "code",
   "execution_count": 2,
   "metadata": {},
   "outputs": [
    {
     "name": "stdout",
     "output_type": "stream",
     "text": [
      "{10000: {0: {0.25: {1: np.float64(0.949), 5: np.float64(0.967), 'log': np.float64(0.992)}, 'hetero': {1: np.float64(0.975), 5: np.float64(0.994), 'log': np.float64(0.998)}, 0.9: {1: np.float64(0.995), 5: np.float64(1.0), 'log': np.float64(1.0)}}, 1: {0.25: {1: np.float64(0.949), 5: np.float64(0.967), 'log': np.float64(0.992)}, 'hetero': {1: np.float64(0.975), 5: np.float64(0.994), 'log': np.float64(0.998)}, 0.9: {1: np.float64(0.995), 5: np.float64(1.0), 'log': np.float64(1.0)}}, 2: {0.25: {1: np.float64(0.949), 5: np.float64(0.967), 'log': np.float64(0.992)}, 'hetero': {1: np.float64(0.975), 5: np.float64(0.994), 'log': np.float64(0.998)}, 0.9: {1: np.float64(0.995), 5: np.float64(1.0), 'log': np.float64(1.0)}}}, 50000: {0: {0.25: {1: np.float64(0.956), 5: np.float64(0.982), 'log': np.float64(0.996)}, 'hetero': {1: np.float64(0.968), 5: np.float64(0.969), 'log': np.float64(0.982)}, 0.9: {1: np.float64(1.0), 5: np.float64(0.988), 'log': np.float64(0.99)}}, 1: {0.25: {1: np.float64(0.956), 5: np.float64(0.982), 'log': np.float64(0.996)}, 'hetero': {1: np.float64(0.968), 5: np.float64(0.969), 'log': np.float64(0.982)}, 0.9: {1: np.float64(1.0), 5: np.float64(0.988), 'log': np.float64(0.99)}}, 2: {0.25: {1: np.float64(0.956), 5: np.float64(0.982), 'log': np.float64(0.996)}, 'hetero': {1: np.float64(0.968), 5: np.float64(0.969), 'log': np.float64(0.982)}, 0.9: {1: np.float64(1.0), 5: np.float64(0.988), 'log': np.float64(0.99)}}}}\n",
      "{10000: {0: {0.25: {1: np.float64(0.0133017894346976), 5: np.float64(0.02441311762804853), 'log': np.float64(0.035960243217890764)}, 'hetero': {1: np.float64(0.00520028686255884), 5: np.float64(0.00980503034316054), 'log': np.float64(0.014592041095953572)}, 0.9: {1: np.float64(0.0023428392979767663), 5: np.float64(0.005376381188610016), 'log': np.float64(0.00822471986897724)}}, 1: {0.25: {1: np.float64(0.0133017894346976), 5: np.float64(0.02441311762804853), 'log': np.float64(0.035960243217890764)}, 'hetero': {1: np.float64(0.00520028686255884), 5: np.float64(0.00980503034316054), 'log': np.float64(0.014592041095953572)}, 0.9: {1: np.float64(0.0023428392979767663), 5: np.float64(0.005376381188610016), 'log': np.float64(0.00822471986897724)}}, 2: {0.25: {1: np.float64(0.013301789918985339), 5: np.float64(0.02441311759079563), 'log': np.float64(0.035960242491459155)}, 'hetero': {1: np.float64(0.005200288259535979), 5: np.float64(0.009805029784367845), 'log': np.float64(0.014592040425401997)}, 0.9: {1: np.float64(0.0023428438986779093), 5: np.float64(0.0053763807602025615), 'log': np.float64(0.00822471834161042)}}}, 50000: {0: {0.25: {1: np.float64(0.005623450101438124), 5: np.float64(0.008100951161302834), 'log': np.float64(0.01224723818905729)}, 'hetero': {1: np.float64(0.0028435791613450542), 5: np.float64(0.004447600969625057), 'log': np.float64(0.006499054579154531)}, 0.9: {1: np.float64(0.0017759427188902143), 5: np.float64(0.002671011333538387), 'log': np.float64(0.003620860160584377)}}, 1: {0.25: {1: np.float64(0.005623450101438124), 5: np.float64(0.008100951161302834), 'log': np.float64(0.01224723818905729)}, 'hetero': {1: np.float64(0.0028435791613450542), 5: np.float64(0.004447600969625057), 'log': np.float64(0.006499054579154531)}, 0.9: {1: np.float64(0.0017759427188902143), 5: np.float64(0.002671011333538387), 'log': np.float64(0.003620860160584377)}}, 2: {0.25: {1: np.float64(0.005623448257419426), 5: np.float64(0.008100949280031234), 'log': np.float64(0.012247236661688268)}, 'hetero': {1: np.float64(0.0028435734058767804), 5: np.float64(0.004447594264145041), 'log': np.float64(0.006499048525582116)}, 0.9: {1: np.float64(0.001775934020566566), 5: np.float64(0.002671003305613691), 'log': np.float64(0.003620852896312264)}}}}\n"
     ]
    }
   ],
   "source": [
    "cvg_case2 = load_pickle('case_federated_homo_cvg.pkl')\n",
    "mae_case2 = load_pickle('case_federated_homo_mae.pkl')\n",
    "\n",
    "# cvg_case2 = load_pickle('case_global_hete_d_cvg.pkl')\n",
    "# mae_case2 = load_pickle('case_global_hete_d_mae.pkl')\n",
    "print(cvg_case2)\n",
    "print(mae_case2)"
   ]
  },
  {
   "cell_type": "code",
   "execution_count": 14,
   "metadata": {},
   "outputs": [],
   "source": [
    "# print(cvg_case2)\n",
    "# print(mae_case2)"
   ]
  },
  {
   "cell_type": "code",
   "execution_count": 3,
   "metadata": {},
   "outputs": [],
   "source": [
    "def generate_combined_table(data_ci, data_mae, caption=\"Results\",\n",
    "                            label=\"tab:combined\"):\n",
    "    # 自动获取所有n值并按数字顺序排序\n",
    "    all_n = sorted(set(list(data_ci.keys()) + list(data_mae.keys())), key=int)\n",
    "    latex_code = f\"\"\n",
    "    for n in all_n:\n",
    "        # 添加n标题行\n",
    "        latex_code += f\"\\\\multicolumn{{6}}{{c}}{{\\\\textbf{{T = {n}}}}} \\\\\\\\\\n\"\n",
    "        latex_code += \"\\\\midrule\\n\"\n",
    "        \n",
    "        # 遍历所有tau和r组合\n",
    "        for tau in sorted(data_ci[n].keys(), key=float):\n",
    "            for r_val in data_ci[n][tau].keys():\n",
    "                # 生成行内容\n",
    "                row = f\"{tau} & {r_val if isinstance(r_val, str) else r_val} \"\n",
    "                \n",
    "                # 遍历所有E值\n",
    "                for e in data_ci[n][tau][r_val].keys():\n",
    "                    ci = data_ci[n][tau][r_val].get(e, \"--\")\n",
    "                    mae = data_mae[n][tau][r_val].get(e, \"--\")\n",
    "                    cell = f\"& {ci:.3f}({mae:.4f}) \" if isinstance(ci, float) and isinstance(mae, float) else \"& -- \"\n",
    "                    row += cell\n",
    "                \n",
    "                latex_code += row + \"\\\\\\\\\\n\"\n",
    "            \n",
    "            # 添加tau之间的分隔线\n",
    "            latex_code += \"\\\\hline\\n\"\n",
    "    latex_code += \"\"\"\\\\bottomrule\n",
    "\\\\end{tabular}\n",
    "\\\\end{table}\"\"\"\n",
    "    return latex_code"
   ]
  },
  {
   "cell_type": "code",
   "execution_count": 4,
   "metadata": {},
   "outputs": [],
   "source": [
    "latex_output = generate_combined_table(cvg_case2, mae_case2)\n",
    "with open(\"output/combined_table.tex\", \"w\") as f:\n",
    "    f.write(latex_output)"
   ]
  },
  {
   "cell_type": "code",
   "execution_count": null,
   "metadata": {},
   "outputs": [],
   "source": []
  },
  {
   "cell_type": "markdown",
   "metadata": {},
   "source": [
    "## For Global"
   ]
  },
  {
   "cell_type": "code",
   "execution_count": 3,
   "metadata": {},
   "outputs": [],
   "source": [
    "def generate_combined_table(data_ci, data_mae,\n",
    "                            caption=\"Results\",\n",
    "                            label=\"tab:combined\"):\n",
    "    r\"\"\"\n",
    "    生成 LaTeX 表格，行格式：\n",
    "        tau  &  r  &  ci(mae)  \\\\\n",
    "    适用于 data_ci[n][tau][r]  以及  data_mae[n][tau][r]  这种三层嵌套结构\n",
    "    \"\"\"\n",
    "\n",
    "    # ── 收集并排序所有 T ───────────────────────────────────────────\n",
    "    all_n = sorted(set(list(data_ci.keys()) + list(data_mae.keys())),\n",
    "                   key=int)\n",
    "\n",
    "    latex_code = (\n",
    "        \"\\\\begin{table}[htbp]\\n\"\n",
    "        \"\\\\centering\\n\"\n",
    "        f\"\\\\caption{{{caption}}}\\n\"\n",
    "        f\"\\\\label{{{label}}}\\n\"\n",
    "        \"\\\\begin{tabular}{lll}\\n\"   # 3 列：tau, r, ci(mae)\n",
    "        \"\\\\toprule\\n\"\n",
    "        \"τ & r & CI(MAE)\\\\\\\\\\n\"\n",
    "        \"\\\\midrule\\n\"\n",
    "    )\n",
    "\n",
    "    for n in all_n:\n",
    "        # ★ 3 列 → \\multicolumn{3}\n",
    "        latex_code += f\"\\\\multicolumn{{3}}{{c}}{{\\\\textbf{{T = {n}}}}} \\\\\\\\\\n\"\n",
    "        latex_code += \"\\\\midrule\\n\"\n",
    "\n",
    "        # 遍历 tau\n",
    "        for tau in sorted(data_ci[n].keys(), key=float):\n",
    "            # 遍历 r\n",
    "            for r_val in data_ci[n][tau].keys():\n",
    "                ci  = data_ci[n][tau].get(r_val, \"--\")\n",
    "                mae = data_mae[n][tau].get(r_val, \"--\")\n",
    "\n",
    "                cell = (\n",
    "                    f\"{ci:.3f}({mae:.4f})\"\n",
    "                    if isinstance(ci, float) and isinstance(mae, float)\n",
    "                    else \"--\"\n",
    "                )\n",
    "                row = (\n",
    "                    f\"{tau} & \"\n",
    "                    f\"{r_val if isinstance(r_val, str) else r_val} & \"\n",
    "                    f\"{cell} \\\\\\\\\"\n",
    "                )\n",
    "                latex_code += row + \"\\n\"\n",
    "\n",
    "            # tau 之间分隔线\n",
    "            latex_code += \"\\\\hline\\n\"\n",
    "\n",
    "    latex_code += (\n",
    "        \"\\\\bottomrule\\n\"\n",
    "        \"\\\\end{tabular}\\n\"\n",
    "        \"\\\\end{table}\"\n",
    "    )\n",
    "    return latex_code"
   ]
  },
  {
   "cell_type": "code",
   "execution_count": 4,
   "metadata": {},
   "outputs": [],
   "source": [
    "latex_output = generate_combined_table(cvg_case2, mae_case2)\n",
    "with open(\"combined_table.tex\", \"w\") as f:\n",
    "    f.write(latex_output)"
   ]
  },
  {
   "cell_type": "code",
   "execution_count": null,
   "metadata": {},
   "outputs": [],
   "source": []
  }
 ],
 "metadata": {
  "kernelspec": {
   "display_name": "myconda",
   "language": "python",
   "name": "myconda"
  },
  "language_info": {
   "codemirror_mode": {
    "name": "ipython",
    "version": 3
   },
   "file_extension": ".py",
   "mimetype": "text/x-python",
   "name": "python",
   "nbconvert_exporter": "python",
   "pygments_lexer": "ipython3",
   "version": "3.12.4"
  }
 },
 "nbformat": 4,
 "nbformat_minor": 4
}
