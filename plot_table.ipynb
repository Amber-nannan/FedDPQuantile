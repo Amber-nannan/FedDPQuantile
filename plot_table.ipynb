{
 "cells": [
  {
   "cell_type": "code",
   "execution_count": 27,
   "metadata": {},
   "outputs": [],
   "source": [
    "import pickle\n",
    "from util_fdp import *"
   ]
  },
  {
   "cell_type": "code",
   "execution_count": 28,
   "metadata": {},
   "outputs": [
    {
     "name": "stdout",
     "output_type": "stream",
     "text": [
      "{5000: {0.3: {0.9: {1: np.float64(0.913), 5: np.float64(0.962), 'log': np.float64(0.995)}}, 0.5: {0.9: {1: np.float64(0.901), 5: np.float64(0.937), 'log': np.float64(0.993)}}, 0.8: {0.9: {1: np.float64(0.907), 5: np.float64(0.94), 'log': np.float64(0.992)}}}, 50000: {0.3: {0.9: {1: np.float64(0.92), 5: np.float64(0.988), 'log': np.float64(0.943)}}, 0.5: {0.9: {1: np.float64(0.932), 5: np.float64(0.963), 'log': np.float64(0.977)}}, 0.8: {0.9: {1: np.float64(0.922), 5: np.float64(0.997), 'log': np.float64(0.932)}}}}\n",
      "{5000: {0.3: {0.9: {1: np.float64(0.006769416157657278), 5: np.float64(0.006097304775136243), 'log': np.float64(0.011791910213079165)}}, 0.5: {0.9: {1: np.float64(0.006291548907253685), 5: np.float64(0.0038562210579174997), 'log': np.float64(0.008273475288408839)}}, 0.8: {0.9: {1: np.float64(0.007591264137123249), 5: np.float64(0.008229057645040064), 'log': np.float64(0.01693098285385654)}}}, 50000: {0.3: {0.9: {1: np.float64(0.0021169087992000744), 5: np.float64(0.004808272200273537), 'log': np.float64(0.002521876892983803)}}, 0.5: {0.9: {1: np.float64(0.0019401161825060148), 5: np.float64(0.002196501412755228), 'log': np.float64(0.0011897627186732403)}}, 0.8: {0.9: {1: np.float64(0.002568342920418608), 5: np.float64(0.006336646457572144), 'log': np.float64(0.003712141916230359)}}}}\n"
     ]
    }
   ],
   "source": [
    "cvg_case2 = load_pickle('case_rs_federated_hete_cvg.pkl')\n",
    "mae_case2 = load_pickle('case_rs_federated_hete_mae.pkl')\n",
    "\n",
    "# cvg_case2 = load_pickle('case_federated_homo_cvg.pkl')\n",
    "# mae_case2 = load_pickle('case_federated_homo_mae.pkl')\n",
    "print(cvg_case2)\n",
    "print(mae_case2)"
   ]
  },
  {
   "cell_type": "code",
   "execution_count": 29,
   "metadata": {},
   "outputs": [],
   "source": [
    "def generate_combined_table(data_ci, data_mae, caption=\"Results\",\n",
    "                            label=\"tab:combined\"):\n",
    "    # 自动获取所有n值并按数字顺序排序\n",
    "    all_n = sorted(set(list(data_ci.keys()) + list(data_mae.keys())), key=int)\n",
    "    latex_code = f\"\"\n",
    "    for n in all_n:\n",
    "        # 添加n标题行\n",
    "        latex_code += f\"\\\\multicolumn{{6}}{{c}}{{\\\\textbf{{T = {n}}}}} \\\\\\\\\\n\"\n",
    "        latex_code += \"\\\\midrule\\n\"\n",
    "        \n",
    "        # 遍历所有tau和r组合\n",
    "        for tau in sorted(data_ci[n].keys(), key=float):\n",
    "            for r_val in data_ci[n][tau].keys():\n",
    "                # 生成行内容\n",
    "                row = f\"{tau} & {r_val if isinstance(r_val, str) else r_val} \"\n",
    "                \n",
    "                # 遍历所有E值\n",
    "                for e in data_ci[n][tau][r_val].keys():\n",
    "                    ci = data_ci[n][tau][r_val].get(e, \"--\")\n",
    "                    mae = data_mae[n][tau][r_val].get(e, \"--\")\n",
    "                    cell = f\"& {ci:.3f}({mae:.4f}) \" if isinstance(ci, float) and isinstance(mae, float) else \"& -- \"\n",
    "                    row += cell\n",
    "                \n",
    "                latex_code += row + \"\\\\\\\\\\n\"\n",
    "            \n",
    "            # 添加tau之间的分隔线\n",
    "            latex_code += \"\\\\hline\\n\"\n",
    "    latex_code += \"\"\"\\\\bottomrule\n",
    "\\\\end{tabular}\n",
    "\\\\end{table}\"\"\"\n",
    "    return latex_code"
   ]
  },
  {
   "cell_type": "code",
   "execution_count": 30,
   "metadata": {},
   "outputs": [],
   "source": [
    "latex_output = generate_combined_table(cvg_case2, mae_case2)\n",
    "with open(\"combined_table.tex\", \"w\") as f:\n",
    "    f.write(latex_output)"
   ]
  },
  {
   "cell_type": "code",
   "execution_count": null,
   "metadata": {},
   "outputs": [],
   "source": []
  },
  {
   "cell_type": "code",
   "execution_count": null,
   "metadata": {},
   "outputs": [],
   "source": []
  }
 ],
 "metadata": {
  "kernelspec": {
   "display_name": "myconda",
   "language": "python",
   "name": "myconda"
  },
  "language_info": {
   "codemirror_mode": {
    "name": "ipython",
    "version": 3
   },
   "file_extension": ".py",
   "mimetype": "text/x-python",
   "name": "python",
   "nbconvert_exporter": "python",
   "pygments_lexer": "ipython3",
   "version": "3.12.4"
  }
 },
 "nbformat": 4,
 "nbformat_minor": 4
}
