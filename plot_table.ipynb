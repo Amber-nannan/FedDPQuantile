{
 "cells": [
  {
   "cell_type": "code",
   "execution_count": 5,
   "metadata": {},
   "outputs": [],
   "source": [
    "import pickle\n",
    "from util_fdp import *"
   ]
  },
  {
   "cell_type": "code",
   "execution_count": 6,
   "metadata": {},
   "outputs": [
    {
     "name": "stdout",
     "output_type": "stream",
     "text": [
      "{10000: {0: {0.25: {1: np.float64(0.952), 5: np.float64(0.988), 'log': np.float64(0.991)}, 'hetero': {1: np.float64(0.0), 5: np.float64(0.01), 'log': np.float64(0.037)}, 0.9: {1: np.float64(0.992), 5: np.float64(0.998), 'log': np.float64(1.0)}}, 1: {0.25: {1: np.float64(0.949), 5: np.float64(0.986), 'log': np.float64(0.992)}, 'hetero': {1: np.float64(0.0), 5: np.float64(0.009), 'log': np.float64(0.037)}, 0.9: {1: np.float64(0.978), 5: np.float64(1.0), 'log': np.float64(1.0)}}}, 50000: {0: {0.25: {1: np.float64(0.954), 5: np.float64(0.98), 'log': np.float64(0.997)}, 'hetero': {1: np.float64(0.0), 5: np.float64(0.0), 'log': np.float64(0.0)}, 0.9: {1: np.float64(0.993), 5: np.float64(0.999), 'log': np.float64(1.0)}}, 1: {0.25: {1: np.float64(0.955), 5: np.float64(0.981), 'log': np.float64(0.996)}, 'hetero': {1: np.float64(0.0), 5: np.float64(0.0), 'log': np.float64(0.0)}, 0.9: {1: np.float64(0.969), 5: np.float64(0.997), 'log': np.float64(0.999)}}}}\n",
      "{10000: {0: {0.25: {1: np.float64(0.01294425563460579), 5: np.float64(0.025390423053152058), 'log': np.float64(0.037245718150839824)}, 'hetero': {1: np.float64(0.1880317786518009), 5: np.float64(0.1877147201755412), 'log': np.float64(0.18963596011179107)}, 0.9: {1: np.float64(0.0020747978783572938), 5: np.float64(0.005353422000032007), 'log': np.float64(0.00801832692150321)}}, 1: {0.25: {1: np.float64(0.013012292403276263), 5: np.float64(0.025404539864113805), 'log': np.float64(0.0370437692162961)}, 'hetero': {1: np.float64(0.1907223358304257), 5: np.float64(0.18949263141429432), 'log': np.float64(0.19116756163366722)}, 0.9: {1: np.float64(0.0025515437149488487), 5: np.float64(0.005308725888023052), 'log': np.float64(0.008267996589217499)}}}, 50000: {0: {0.25: {1: np.float64(0.0056345217283458775), 5: np.float64(0.007805095733679174), 'log': np.float64(0.012110825528253365)}, 'hetero': {1: np.float64(0.18948114672774607), 5: np.float64(0.18767727860433303), 'log': np.float64(0.1871186529927806)}, 0.9: {1: np.float64(0.0010625459005769514), 5: np.float64(0.001307477639817113), 'log': np.float64(0.002140309829177306)}}, 1: {0.25: {1: np.float64(0.005631626072123496), 5: np.float64(0.007926932490022881), 'log': np.float64(0.01227880217048034)}, 'hetero': {1: np.float64(0.19175226302060014), 5: np.float64(0.18984322452400973), 'log': np.float64(0.18907018227290792)}, 0.9: {1: np.float64(0.0012202242817376144), 5: np.float64(0.0016520147945621553), 'log': np.float64(0.002512545355476795)}}}}\n"
     ]
    }
   ],
   "source": [
    "cvg_case2 = load_pickle('case_federated_homo_cvg.pkl')\n",
    "mae_case2 = load_pickle('case_federated_homo_mae.pkl')\n",
    "\n",
    "# cvg_case2 = load_pickle('case_global_hete_d_cvg.pkl')\n",
    "# mae_case2 = load_pickle('case_global_hete_d_mae.pkl')\n",
    "print(cvg_case2)\n",
    "print(mae_case2)"
   ]
  },
  {
   "cell_type": "code",
   "execution_count": 7,
   "metadata": {},
   "outputs": [],
   "source": [
    "# print(cvg_case2)\n",
    "# print(mae_case2)"
   ]
  },
  {
   "cell_type": "code",
   "execution_count": 8,
   "metadata": {},
   "outputs": [],
   "source": [
    "def generate_combined_table(data_ci, data_mae, caption=\"Results\",\n",
    "                            label=\"tab:combined\"):\n",
    "    # 自动获取所有n值并按数字顺序排序\n",
    "    all_n = sorted(set(list(data_ci.keys()) + list(data_mae.keys())), key=int)\n",
    "    latex_code = f\"\"\n",
    "    for n in all_n:\n",
    "        # 添加n标题行\n",
    "        latex_code += f\"\\\\multicolumn{{6}}{{c}}{{\\\\textbf{{T = {n}}}}} \\\\\\\\\\n\"\n",
    "        latex_code += \"\\\\midrule\\n\"\n",
    "        \n",
    "        # 遍历所有tau和r组合\n",
    "        for tau in sorted(data_ci[n].keys(), key=float):\n",
    "            for r_val in data_ci[n][tau].keys():\n",
    "                # 生成行内容\n",
    "                row = f\"{tau} & {r_val if isinstance(r_val, str) else r_val} \"\n",
    "                \n",
    "                # 遍历所有E值\n",
    "                for e in data_ci[n][tau][r_val].keys():\n",
    "                    ci = data_ci[n][tau][r_val].get(e, \"--\")\n",
    "                    mae = data_mae[n][tau][r_val].get(e, \"--\")\n",
    "                    cell = f\"& {ci:.3f}({mae:.4f}) \" if isinstance(ci, float) and isinstance(mae, float) else \"& -- \"\n",
    "                    row += cell\n",
    "                \n",
    "                latex_code += row + \"\\\\\\\\\\n\"\n",
    "            \n",
    "            # 添加tau之间的分隔线\n",
    "            latex_code += \"\\\\hline\\n\"\n",
    "    latex_code += \"\"\"\\\\bottomrule\n",
    "\\\\end{tabular}\n",
    "\\\\end{table}\"\"\"\n",
    "    return latex_code"
   ]
  },
  {
   "cell_type": "code",
   "execution_count": 9,
   "metadata": {},
   "outputs": [],
   "source": [
    "latex_output = generate_combined_table(cvg_case2, mae_case2)\n",
    "with open(\"output/combined_table.tex\", \"w\") as f:\n",
    "    f.write(latex_output)"
   ]
  },
  {
   "cell_type": "code",
   "execution_count": null,
   "metadata": {},
   "outputs": [],
   "source": []
  },
  {
   "cell_type": "markdown",
   "metadata": {},
   "source": [
    "## For Global"
   ]
  },
  {
   "cell_type": "code",
   "execution_count": 3,
   "metadata": {},
   "outputs": [],
   "source": [
    "def generate_combined_table(data_ci, data_mae,\n",
    "                            caption=\"Results\",\n",
    "                            label=\"tab:combined\"):\n",
    "    r\"\"\"\n",
    "    生成 LaTeX 表格，行格式：\n",
    "        tau  &  r  &  ci(mae)  \\\\\n",
    "    适用于 data_ci[n][tau][r]  以及  data_mae[n][tau][r]  这种三层嵌套结构\n",
    "    \"\"\"\n",
    "\n",
    "    # ── 收集并排序所有 T ───────────────────────────────────────────\n",
    "    all_n = sorted(set(list(data_ci.keys()) + list(data_mae.keys())),\n",
    "                   key=int)\n",
    "\n",
    "    latex_code = (\n",
    "        \"\\\\begin{table}[htbp]\\n\"\n",
    "        \"\\\\centering\\n\"\n",
    "        f\"\\\\caption{{{caption}}}\\n\"\n",
    "        f\"\\\\label{{{label}}}\\n\"\n",
    "        \"\\\\begin{tabular}{lll}\\n\"   # 3 列：tau, r, ci(mae)\n",
    "        \"\\\\toprule\\n\"\n",
    "        \"τ & r & CI(MAE)\\\\\\\\\\n\"\n",
    "        \"\\\\midrule\\n\"\n",
    "    )\n",
    "\n",
    "    for n in all_n:\n",
    "        # ★ 3 列 → \\multicolumn{3}\n",
    "        latex_code += f\"\\\\multicolumn{{3}}{{c}}{{\\\\textbf{{T = {n}}}}} \\\\\\\\\\n\"\n",
    "        latex_code += \"\\\\midrule\\n\"\n",
    "\n",
    "        # 遍历 tau\n",
    "        for tau in sorted(data_ci[n].keys(), key=float):\n",
    "            # 遍历 r\n",
    "            for r_val in data_ci[n][tau].keys():\n",
    "                ci  = data_ci[n][tau].get(r_val, \"--\")\n",
    "                mae = data_mae[n][tau].get(r_val, \"--\")\n",
    "\n",
    "                cell = (\n",
    "                    f\"{ci:.3f}({mae:.4f})\"\n",
    "                    if isinstance(ci, float) and isinstance(mae, float)\n",
    "                    else \"--\"\n",
    "                )\n",
    "                row = (\n",
    "                    f\"{tau} & \"\n",
    "                    f\"{r_val if isinstance(r_val, str) else r_val} & \"\n",
    "                    f\"{cell} \\\\\\\\\"\n",
    "                )\n",
    "                latex_code += row + \"\\n\"\n",
    "\n",
    "            # tau 之间分隔线\n",
    "            latex_code += \"\\\\hline\\n\"\n",
    "\n",
    "    latex_code += (\n",
    "        \"\\\\bottomrule\\n\"\n",
    "        \"\\\\end{tabular}\\n\"\n",
    "        \"\\\\end{table}\"\n",
    "    )\n",
    "    return latex_code"
   ]
  },
  {
   "cell_type": "code",
   "execution_count": 4,
   "metadata": {},
   "outputs": [],
   "source": [
    "latex_output = generate_combined_table(cvg_case2, mae_case2)\n",
    "with open(\"combined_table.tex\", \"w\") as f:\n",
    "    f.write(latex_output)"
   ]
  },
  {
   "cell_type": "code",
   "execution_count": null,
   "metadata": {},
   "outputs": [],
   "source": []
  }
 ],
 "metadata": {
  "kernelspec": {
   "display_name": "myconda",
   "language": "python",
   "name": "myconda"
  },
  "language_info": {
   "codemirror_mode": {
    "name": "ipython",
    "version": 3
   },
   "file_extension": ".py",
   "mimetype": "text/x-python",
   "name": "python",
   "nbconvert_exporter": "python",
   "pygments_lexer": "ipython3",
   "version": "3.12.4"
  }
 },
 "nbformat": 4,
 "nbformat_minor": 4
}
