{
 "cells": [
  {
   "cell_type": "code",
   "execution_count": 1,
   "metadata": {},
   "outputs": [
    {
     "name": "stderr",
     "output_type": "stream",
     "text": [
      "/root/miniconda3/envs/myconda/lib/python3.12/site-packages/tqdm/auto.py:21: TqdmWarning: IProgress not found. Please update jupyter and ipywidgets. See https://ipywidgets.readthedocs.io/en/stable/user_install.html\n",
      "  from .autonotebook import tqdm as notebook_tqdm\n",
      "2025-05-14 12:07:06,791\tINFO util.py:154 -- Missing packages: ['ipywidgets']. Run `pip install -U ipywidgets`, then restart the notebook server for rich notebook output.\n"
     ]
    }
   ],
   "source": [
    "import pickle\n",
    "from util_fdp import *"
   ]
  },
  {
   "cell_type": "code",
   "execution_count": 3,
   "metadata": {},
   "outputs": [
    {
     "name": "stdout",
     "output_type": "stream",
     "text": [
      "{10000: {0.3: {0.25: {1: np.float64(0.95), 5: np.float64(0.984), 'log': np.float64(0.988)}, 0.9: {1: np.float64(0.992), 5: np.float64(0.999), 'log': np.float64(1.0)}}, 0.5: {0.25: {1: np.float64(0.942), 5: np.float64(0.979), 'log': np.float64(0.979)}, 0.9: {1: np.float64(0.851), 5: np.float64(0.99), 'log': np.float64(0.998)}}, 0.8: {0.25: {1: np.float64(0.947), 5: np.float64(0.985), 'log': np.float64(0.991)}, 0.9: {1: np.float64(0.86), 5: np.float64(0.949), 'log': np.float64(0.992)}}}, 50000: {0.3: {0.25: {1: np.float64(0.937), 5: np.float64(0.983), 'log': np.float64(0.987)}, 0.9: {1: np.float64(0.898), 5: np.float64(0.998), 'log': np.float64(1.0)}}, 0.5: {0.25: {1: np.float64(0.955), 5: np.float64(0.982), 'log': np.float64(0.991)}, 0.9: {1: np.float64(0.994), 5: np.float64(0.998), 'log': np.float64(1.0)}}, 0.8: {0.25: {1: np.float64(0.954), 5: np.float64(0.989), 'log': np.float64(0.998)}, 0.9: {1: np.float64(0.995), 5: np.float64(0.969), 'log': np.float64(0.99)}}}}\n",
      "{10000: {0.3: {0.25: {1: np.float64(0.02032192389285221), 5: np.float64(0.03449858408650357), 'log': np.float64(0.05139985000179864)}, 0.9: {1: np.float64(0.004142762866055123), 5: np.float64(0.0076567741566172685), 'log': np.float64(0.011623018190609794)}}, 0.5: {0.25: {1: np.float64(0.019597615512721055), 5: np.float64(0.0347116189167902), 'log': np.float64(0.05009801184754539)}, 0.9: {1: np.float64(0.007030753487181666), 5: np.float64(0.008918975148969456), 'log': np.float64(0.01190165414763566)}}, 0.8: {0.25: {1: np.float64(0.029295661431860652), 5: np.float64(0.0655496653881411), 'log': np.float64(0.09623847274371526)}, 0.9: {1: np.float64(0.007745325790877711), 5: np.float64(0.022653896046843192), 'log': np.float64(0.02707090626423299)}}}, 50000: {0.3: {0.25: {1: np.float64(0.01015028524077983), 5: np.float64(0.012182303741708811), 'log': np.float64(0.018432877321094963)}, 0.9: {1: np.float64(0.004185471234217313), 5: np.float64(0.00212139563674879), 'log': np.float64(0.0036113087618374787)}}, 0.5: {0.25: {1: np.float64(0.007954546957461995), 5: np.float64(0.010820601842864796), 'log': np.float64(0.01637520975696165)}, 0.9: {1: np.float64(0.0010998170351793847), 5: np.float64(0.0019098945213788742), 'log': np.float64(0.003341894710309109)}}, 0.8: {0.25: {1: np.float64(0.011963647558662274), 5: np.float64(0.017177829407662423), 'log': np.float64(0.02729025515119395)}, 0.9: {1: np.float64(0.0016735331102270053), 5: np.float64(0.008473063751714745), 'log': np.float64(0.01207242729316041)}}}}\n"
     ]
    }
   ],
   "source": [
    "cvg_case2 = load_pickle('case_federated_hete_cvg.pkl')\n",
    "mae_case2 = load_pickle('case_federated_hete_mae.pkl')\n",
    "\n",
    "# cvg_case2 = load_pickle('case_global_hete_d_cvg.pkl')\n",
    "# mae_case2 = load_pickle('case_global_hete_d_mae.pkl')\n",
    "print(cvg_case2)\n",
    "print(mae_case2)"
   ]
  },
  {
   "cell_type": "code",
   "execution_count": 4,
   "metadata": {},
   "outputs": [],
   "source": [
    "# print(cvg_case2)\n",
    "# print(mae_case2)"
   ]
  },
  {
   "cell_type": "code",
   "execution_count": 5,
   "metadata": {},
   "outputs": [],
   "source": [
    "def generate_combined_table(data_ci, data_mae, caption=\"Results\",\n",
    "                            label=\"tab:combined\"):\n",
    "    # 自动获取所有n值并按数字顺序排序\n",
    "    all_n = sorted(set(list(data_ci.keys()) + list(data_mae.keys())), key=int)\n",
    "    latex_code = f\"\"\n",
    "    for n in all_n:\n",
    "        # 添加n标题行\n",
    "        latex_code += f\"\\\\multicolumn{{6}}{{c}}{{\\\\textbf{{T = {n}}}}} \\\\\\\\\\n\"\n",
    "        latex_code += \"\\\\midrule\\n\"\n",
    "        \n",
    "        # 遍历所有tau和r组合\n",
    "        for tau in sorted(data_ci[n].keys(), key=float):\n",
    "            for r_val in data_ci[n][tau].keys():\n",
    "                # 生成行内容\n",
    "                row = f\"{tau} & {r_val if isinstance(r_val, str) else r_val} \"\n",
    "                \n",
    "                # 遍历所有E值\n",
    "                for e in data_ci[n][tau][r_val].keys():\n",
    "                    ci = data_ci[n][tau][r_val].get(e, \"--\")\n",
    "                    mae = data_mae[n][tau][r_val].get(e, \"--\")\n",
    "                    cell = f\"& {ci:.3f}({mae:.4f}) \" if isinstance(ci, float) and isinstance(mae, float) else \"& -- \"\n",
    "                    row += cell\n",
    "                \n",
    "                latex_code += row + \"\\\\\\\\\\n\"\n",
    "            \n",
    "            # 添加tau之间的分隔线\n",
    "            latex_code += \"\\\\hline\\n\"\n",
    "    latex_code += \"\"\"\\\\bottomrule\n",
    "\\\\end{tabular}\n",
    "\\\\end{table}\"\"\"\n",
    "    return latex_code"
   ]
  },
  {
   "cell_type": "code",
   "execution_count": 6,
   "metadata": {},
   "outputs": [],
   "source": [
    "latex_output = generate_combined_table(cvg_case2, mae_case2)\n",
    "with open(\"output/combined_table.tex\", \"w\") as f:\n",
    "    f.write(latex_output)"
   ]
  },
  {
   "cell_type": "code",
   "execution_count": null,
   "metadata": {},
   "outputs": [],
   "source": []
  },
  {
   "cell_type": "markdown",
   "metadata": {},
   "source": [
    "## For Global"
   ]
  },
  {
   "cell_type": "code",
   "execution_count": 3,
   "metadata": {},
   "outputs": [],
   "source": [
    "def generate_combined_table(data_ci, data_mae,\n",
    "                            caption=\"Results\",\n",
    "                            label=\"tab:combined\"):\n",
    "    r\"\"\"\n",
    "    生成 LaTeX 表格，行格式：\n",
    "        tau  &  r  &  ci(mae)  \\\\\n",
    "    适用于 data_ci[n][tau][r]  以及  data_mae[n][tau][r]  这种三层嵌套结构\n",
    "    \"\"\"\n",
    "\n",
    "    # ── 收集并排序所有 T ───────────────────────────────────────────\n",
    "    all_n = sorted(set(list(data_ci.keys()) + list(data_mae.keys())),\n",
    "                   key=int)\n",
    "\n",
    "    latex_code = (\n",
    "        \"\\\\begin{table}[htbp]\\n\"\n",
    "        \"\\\\centering\\n\"\n",
    "        f\"\\\\caption{{{caption}}}\\n\"\n",
    "        f\"\\\\label{{{label}}}\\n\"\n",
    "        \"\\\\begin{tabular}{lll}\\n\"   # 3 列：tau, r, ci(mae)\n",
    "        \"\\\\toprule\\n\"\n",
    "        \"τ & r & CI(MAE)\\\\\\\\\\n\"\n",
    "        \"\\\\midrule\\n\"\n",
    "    )\n",
    "\n",
    "    for n in all_n:\n",
    "        # ★ 3 列 → \\multicolumn{3}\n",
    "        latex_code += f\"\\\\multicolumn{{3}}{{c}}{{\\\\textbf{{T = {n}}}}} \\\\\\\\\\n\"\n",
    "        latex_code += \"\\\\midrule\\n\"\n",
    "\n",
    "        # 遍历 tau\n",
    "        for tau in sorted(data_ci[n].keys(), key=float):\n",
    "            # 遍历 r\n",
    "            for r_val in data_ci[n][tau].keys():\n",
    "                ci  = data_ci[n][tau].get(r_val, \"--\")\n",
    "                mae = data_mae[n][tau].get(r_val, \"--\")\n",
    "\n",
    "                cell = (\n",
    "                    f\"{ci:.3f}({mae:.4f})\"\n",
    "                    if isinstance(ci, float) and isinstance(mae, float)\n",
    "                    else \"--\"\n",
    "                )\n",
    "                row = (\n",
    "                    f\"{tau} & \"\n",
    "                    f\"{r_val if isinstance(r_val, str) else r_val} & \"\n",
    "                    f\"{cell} \\\\\\\\\"\n",
    "                )\n",
    "                latex_code += row + \"\\n\"\n",
    "\n",
    "            # tau 之间分隔线\n",
    "            latex_code += \"\\\\hline\\n\"\n",
    "\n",
    "    latex_code += (\n",
    "        \"\\\\bottomrule\\n\"\n",
    "        \"\\\\end{tabular}\\n\"\n",
    "        \"\\\\end{table}\"\n",
    "    )\n",
    "    return latex_code"
   ]
  },
  {
   "cell_type": "code",
   "execution_count": 4,
   "metadata": {},
   "outputs": [],
   "source": [
    "latex_output = generate_combined_table(cvg_case2, mae_case2)\n",
    "with open(\"combined_table.tex\", \"w\") as f:\n",
    "    f.write(latex_output)"
   ]
  },
  {
   "cell_type": "code",
   "execution_count": null,
   "metadata": {},
   "outputs": [],
   "source": []
  }
 ],
 "metadata": {
  "kernelspec": {
   "display_name": "myconda",
   "language": "python",
   "name": "myconda"
  },
  "language_info": {
   "codemirror_mode": {
    "name": "ipython",
    "version": 3
   },
   "file_extension": ".py",
   "mimetype": "text/x-python",
   "name": "python",
   "nbconvert_exporter": "python",
   "pygments_lexer": "ipython3",
   "version": "3.12.4"
  }
 },
 "nbformat": 4,
 "nbformat_minor": 4
}
