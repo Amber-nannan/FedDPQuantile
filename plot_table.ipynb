{
 "cells": [
  {
   "cell_type": "code",
   "execution_count": 82,
   "metadata": {},
   "outputs": [],
   "source": [
    "import pickle\n",
    "from util_fdp import *"
   ]
  },
  {
   "cell_type": "code",
   "execution_count": 83,
   "metadata": {},
   "outputs": [
    {
     "name": "stdout",
     "output_type": "stream",
     "text": [
      "{5000: {0.3: {0.25: {1: np.float64(0.914), 5: np.float64(0.904), 'log': np.float64(0.944)}, 0.9: {1: np.float64(0.96), 5: np.float64(1.0), 'log': np.float64(0.999)}}, 0.5: {0.25: {1: np.float64(0.916), 5: np.float64(0.902), 'log': np.float64(0.956)}, 0.9: {1: np.float64(0.994), 5: np.float64(0.935), 'log': np.float64(1.0)}}, 0.8: {0.25: {1: np.float64(0.878), 5: np.float64(0.885), 'log': np.float64(0.945)}, 0.9: {1: np.float64(0.891), 5: np.float64(0.691), 'log': np.float64(0.999)}}}, 50000: {0.3: {0.25: {1: np.float64(0.931), 5: np.float64(0.936), 'log': np.float64(0.941)}, 0.9: {1: np.float64(0.955), 5: np.float64(1.0), 'log': np.float64(0.914)}}, 0.5: {0.25: {1: np.float64(0.947), 5: np.float64(0.954), 'log': np.float64(0.954)}, 0.9: {1: np.float64(0.989), 5: np.float64(1.0), 'log': np.float64(0.998)}}, 0.8: {0.25: {1: np.float64(0.959), 5: np.float64(0.971), 'log': np.float64(0.947)}, 0.9: {1: np.float64(0.972), 5: np.float64(1.0), 'log': np.float64(0.843)}}}}\n",
      "{5000: {0.3: {0.25: {1: np.float64(0.029943936362307952), 5: np.float64(0.016604549666353392), 'log': np.float64(0.011908702815337917)}, 0.9: {1: np.float64(0.00474908451032875), 5: np.float64(0.0026126212779329977), 'log': np.float64(0.00891981396470575)}}, 0.5: {0.25: {1: np.float64(0.0265558214885841), 5: np.float64(0.014747878437938393), 'log': np.float64(0.010658187420949851)}, 0.9: {1: np.float64(0.008848823527942454), 5: np.float64(0.002808277243981894), 'log': np.float64(0.008423725743150208)}}, 0.8: {0.25: {1: np.float64(0.04306332939483546), 5: np.float64(0.025168334561123287), 'log': np.float64(0.017132931440098448)}, 0.9: {1: np.float64(0.013388032106915172), 5: np.float64(0.012521581945394997), 'log': np.float64(0.020386366172775908)}}}, 50000: {0.3: {0.25: {1: np.float64(0.011617797789469489), 5: np.float64(0.005209361834281826), 'log': np.float64(0.003522242695330763)}, 0.9: {1: np.float64(0.004353177426936621), 5: np.float64(0.0043875404147102675), 'log': np.float64(0.0022599197662553877)}}, 0.5: {0.25: {1: np.float64(0.00803911067527974), 5: np.float64(0.004072510251728386), 'log': np.float64(0.003152991238779978)}, 0.9: {1: np.float64(0.0009806225077756765), 5: np.float64(0.0008286488165387001), 'log': np.float64(0.0009196820479531243)}}, 0.8: {0.25: {1: np.float64(0.014350618027033114), 5: np.float64(0.0075128214341557914), 'log': np.float64(0.004737528810911973)}, 0.9: {1: np.float64(0.0016377276640390616), 5: np.float64(0.0073419391351249785), 'log': np.float64(0.004958285804989957)}}}}\n"
     ]
    }
   ],
   "source": [
    "cvg_case2 = load_pickle('case_federated_hete_cvg.pkl')\n",
    "mae_case2 = load_pickle('case_federated_hete_mae.pkl')\n",
    "\n",
    "# cvg_case2 = load_pickle('case_federated_homo_cvg.pkl')\n",
    "# mae_case2 = load_pickle('case_federated_homo_mae.pkl')\n",
    "print(cvg_case2)\n",
    "print(mae_case2)"
   ]
  },
  {
   "cell_type": "code",
   "execution_count": 84,
   "metadata": {},
   "outputs": [],
   "source": [
    "def generate_combined_table(data_ci, data_mae, caption=\"Results\",\n",
    "                            label=\"tab:combined\"):\n",
    "    # 自动获取所有n值并按数字顺序排序\n",
    "    all_n = sorted(set(list(data_ci.keys()) + list(data_mae.keys())), key=int)\n",
    "    latex_code = f\"\"\n",
    "    for n in all_n:\n",
    "        # 添加n标题行\n",
    "        latex_code += f\"\\\\multicolumn{{6}}{{c}}{{\\\\textbf{{T = {n}}}}} \\\\\\\\\\n\"\n",
    "        latex_code += \"\\\\midrule\\n\"\n",
    "        \n",
    "        # 遍历所有tau和r组合\n",
    "        for tau in sorted(data_ci[n].keys(), key=float):\n",
    "            for r_val in data_ci[n][tau].keys():\n",
    "                # 生成行内容\n",
    "                row = f\"{tau} & {r_val if isinstance(r_val, str) else r_val} \"\n",
    "                \n",
    "                # 遍历所有E值\n",
    "                for e in data_ci[n][tau][r_val].keys():\n",
    "                    ci = data_ci[n][tau][r_val].get(e, \"--\")\n",
    "                    mae = data_mae[n][tau][r_val].get(e, \"--\")\n",
    "                    cell = f\"& {ci:.3f}({mae:.4f}) \" if isinstance(ci, float) and isinstance(mae, float) else \"& -- \"\n",
    "                    row += cell\n",
    "                \n",
    "                latex_code += row + \"\\\\\\\\\\n\"\n",
    "            \n",
    "            # 添加tau之间的分隔线\n",
    "            latex_code += \"\\\\hline\\n\"\n",
    "    latex_code += \"\"\"\\\\bottomrule\n",
    "\\\\end{tabular}\n",
    "\\\\end{table}\"\"\"\n",
    "    return latex_code"
   ]
  },
  {
   "cell_type": "code",
   "execution_count": 85,
   "metadata": {},
   "outputs": [],
   "source": [
    "latex_output = generate_combined_table(cvg_case2, mae_case2)\n",
    "with open(\"combined_table.tex\", \"w\") as f:\n",
    "    f.write(latex_output)"
   ]
  },
  {
   "cell_type": "code",
   "execution_count": null,
   "metadata": {},
   "outputs": [],
   "source": []
  },
  {
   "cell_type": "code",
   "execution_count": null,
   "metadata": {},
   "outputs": [],
   "source": []
  }
 ],
 "metadata": {
  "kernelspec": {
   "display_name": "myconda",
   "language": "python",
   "name": "myconda"
  },
  "language_info": {
   "codemirror_mode": {
    "name": "ipython",
    "version": 3
   },
   "file_extension": ".py",
   "mimetype": "text/x-python",
   "name": "python",
   "nbconvert_exporter": "python",
   "pygments_lexer": "ipython3",
   "version": "3.12.4"
  }
 },
 "nbformat": 4,
 "nbformat_minor": 4
}
