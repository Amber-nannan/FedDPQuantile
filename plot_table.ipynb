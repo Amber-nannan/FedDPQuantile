{
 "cells": [
  {
   "cell_type": "code",
   "execution_count": 10,
   "metadata": {},
   "outputs": [],
   "source": [
    "import pickle\n",
    "from util_fdp import *"
   ]
  },
  {
   "cell_type": "code",
   "execution_count": 22,
   "metadata": {},
   "outputs": [
    {
     "name": "stdout",
     "output_type": "stream",
     "text": [
      "{10000: {0.3: {0.25: np.float64(0.133), 'hetero': np.float64(0.007), 0.9: np.float64(0.0)}, 0.5: {0.25: np.float64(0.971), 'hetero': np.float64(1.0), 0.9: np.float64(1.0)}, 0.8: {0.25: np.float64(0.052), 'hetero': np.float64(0.0), 0.9: np.float64(0.0)}}, 50000: {0.3: {0.25: np.float64(0.0), 'hetero': np.float64(0.0), 0.9: np.float64(0.0)}, 0.5: {0.25: np.float64(0.973), 'hetero': np.float64(1.0), 0.9: np.float64(1.0)}, 0.8: {0.25: np.float64(0.0), 'hetero': np.float64(0.0), 0.9: np.float64(0.0)}}}\n",
      "{10000: {0.3: {0.25: np.float64(0.5301456145227493), 'hetero': np.float64(0.5516614817449883), 0.9: np.float64(0.5585745470056549)}, 0.5: {0.25: np.float64(0.06814299267365356), 'hetero': np.float64(0.029157964002007448), 0.9: np.float64(0.015260856833447793)}, 0.8: {0.25: np.float64(0.874576451194642), 'hetero': np.float64(0.9441853908457364), 0.9: np.float64(0.957596344475151)}}, 50000: {0.3: {0.25: np.float64(0.5646180237539654), 'hetero': np.float64(0.5659318735270241), 0.9: np.float64(0.5668018217191366)}, 0.5: {0.25: np.float64(0.02087231342966494), 'hetero': np.float64(0.007969705161904492), 0.9: np.float64(0.0038052521344618217)}, 0.8: {0.25: np.float64(0.9667897376329517), 'hetero': np.float64(0.9781064586165464), 0.9: np.float64(0.9796572716714711)}}}\n"
     ]
    }
   ],
   "source": [
    "# cvg_case2 = load_pickle('case_federated_homo_cvg.pkl')\n",
    "# mae_case2 = load_pickle('case_federated_homo_mae.pkl')\n",
    "\n",
    "cvg_case2 = load_pickle('case_global_hete_d_cvg.pkl')\n",
    "mae_case2 = load_pickle('case_global_hete_d_mae.pkl')\n",
    "print(cvg_case2)\n",
    "print(mae_case2)"
   ]
  },
  {
   "cell_type": "code",
   "execution_count": 23,
   "metadata": {},
   "outputs": [],
   "source": [
    "# print(cvg_case2)\n",
    "# print(mae_case2)"
   ]
  },
  {
   "cell_type": "code",
   "execution_count": 13,
   "metadata": {},
   "outputs": [],
   "source": [
    "def generate_combined_table(data_ci, data_mae, caption=\"Results\",\n",
    "                            label=\"tab:combined\"):\n",
    "    # 自动获取所有n值并按数字顺序排序\n",
    "    all_n = sorted(set(list(data_ci.keys()) + list(data_mae.keys())), key=int)\n",
    "    latex_code = f\"\"\n",
    "    for n in all_n:\n",
    "        # 添加n标题行\n",
    "        latex_code += f\"\\\\multicolumn{{6}}{{c}}{{\\\\textbf{{T = {n}}}}} \\\\\\\\\\n\"\n",
    "        latex_code += \"\\\\midrule\\n\"\n",
    "        \n",
    "        # 遍历所有tau和r组合\n",
    "        for tau in sorted(data_ci[n].keys(), key=float):\n",
    "            for r_val in data_ci[n][tau].keys():\n",
    "                # 生成行内容\n",
    "                row = f\"{tau} & {r_val if isinstance(r_val, str) else r_val} \"\n",
    "                \n",
    "                # 遍历所有E值\n",
    "                for e in data_ci[n][tau][r_val].keys():\n",
    "                    ci = data_ci[n][tau][r_val].get(e, \"--\")\n",
    "                    mae = data_mae[n][tau][r_val].get(e, \"--\")\n",
    "                    cell = f\"& {ci:.3f}({mae:.4f}) \" if isinstance(ci, float) and isinstance(mae, float) else \"& -- \"\n",
    "                    row += cell\n",
    "                \n",
    "                latex_code += row + \"\\\\\\\\\\n\"\n",
    "            \n",
    "            # 添加tau之间的分隔线\n",
    "            latex_code += \"\\\\hline\\n\"\n",
    "    latex_code += \"\"\"\\\\bottomrule\n",
    "\\\\end{tabular}\n",
    "\\\\end{table}\"\"\"\n",
    "    return latex_code"
   ]
  },
  {
   "cell_type": "code",
   "execution_count": 15,
   "metadata": {},
   "outputs": [],
   "source": [
    "# latex_output = generate_combined_table(cvg_case2, mae_case2)\n",
    "# with open(\"combined_table.tex\", \"w\") as f:\n",
    "#     f.write(latex_output)"
   ]
  },
  {
   "cell_type": "code",
   "execution_count": null,
   "metadata": {},
   "outputs": [],
   "source": []
  },
  {
   "cell_type": "markdown",
   "metadata": {},
   "source": [
    "## For Global"
   ]
  },
  {
   "cell_type": "code",
   "execution_count": 24,
   "metadata": {},
   "outputs": [],
   "source": [
    "def generate_combined_table(data_ci, data_mae,\n",
    "                            caption=\"Results\",\n",
    "                            label=\"tab:combined\"):\n",
    "    r\"\"\"\n",
    "    生成 LaTeX 表格，行格式：\n",
    "        tau  &  r  &  ci(mae)  \\\\\n",
    "    适用于 data_ci[n][tau][r]  以及  data_mae[n][tau][r]  这种三层嵌套结构\n",
    "    \"\"\"\n",
    "\n",
    "    # ── 收集并排序所有 T ───────────────────────────────────────────\n",
    "    all_n = sorted(set(list(data_ci.keys()) + list(data_mae.keys())),\n",
    "                   key=int)\n",
    "\n",
    "    latex_code = (\n",
    "        \"\\\\begin{table}[htbp]\\n\"\n",
    "        \"\\\\centering\\n\"\n",
    "        f\"\\\\caption{{{caption}}}\\n\"\n",
    "        f\"\\\\label{{{label}}}\\n\"\n",
    "        \"\\\\begin{tabular}{lll}\\n\"   # 3 列：tau, r, ci(mae)\n",
    "        \"\\\\toprule\\n\"\n",
    "        \"τ & r & CI(MAE)\\\\\\\\\\n\"\n",
    "        \"\\\\midrule\\n\"\n",
    "    )\n",
    "\n",
    "    for n in all_n:\n",
    "        # ★ 3 列 → \\multicolumn{3}\n",
    "        latex_code += f\"\\\\multicolumn{{3}}{{c}}{{\\\\textbf{{T = {n}}}}} \\\\\\\\\\n\"\n",
    "        latex_code += \"\\\\midrule\\n\"\n",
    "\n",
    "        # 遍历 tau\n",
    "        for tau in sorted(data_ci[n].keys(), key=float):\n",
    "            # 遍历 r\n",
    "            for r_val in data_ci[n][tau].keys():\n",
    "                ci  = data_ci[n][tau].get(r_val, \"--\")\n",
    "                mae = data_mae[n][tau].get(r_val, \"--\")\n",
    "\n",
    "                cell = (\n",
    "                    f\"{ci:.3f}({mae:.4f})\"\n",
    "                    if isinstance(ci, float) and isinstance(mae, float)\n",
    "                    else \"--\"\n",
    "                )\n",
    "                row = (\n",
    "                    f\"{tau} & \"\n",
    "                    f\"{r_val if isinstance(r_val, str) else r_val} & \"\n",
    "                    f\"{cell} \\\\\\\\\"\n",
    "                )\n",
    "                latex_code += row + \"\\n\"\n",
    "\n",
    "            # tau 之间分隔线\n",
    "            latex_code += \"\\\\hline\\n\"\n",
    "\n",
    "    latex_code += (\n",
    "        \"\\\\bottomrule\\n\"\n",
    "        \"\\\\end{tabular}\\n\"\n",
    "        \"\\\\end{table}\"\n",
    "    )\n",
    "    return latex_code"
   ]
  },
  {
   "cell_type": "code",
   "execution_count": 25,
   "metadata": {},
   "outputs": [],
   "source": [
    "latex_output = generate_combined_table(cvg_case2, mae_case2)\n",
    "with open(\"combined_table.tex\", \"w\") as f:\n",
    "    f.write(latex_output)"
   ]
  },
  {
   "cell_type": "code",
   "execution_count": null,
   "metadata": {},
   "outputs": [],
   "source": []
  }
 ],
 "metadata": {
  "kernelspec": {
   "display_name": "myconda",
   "language": "python",
   "name": "myconda"
  },
  "language_info": {
   "codemirror_mode": {
    "name": "ipython",
    "version": 3
   },
   "file_extension": ".py",
   "mimetype": "text/x-python",
   "name": "python",
   "nbconvert_exporter": "python",
   "pygments_lexer": "ipython3",
   "version": "3.12.4"
  }
 },
 "nbformat": 4,
 "nbformat_minor": 4
}
