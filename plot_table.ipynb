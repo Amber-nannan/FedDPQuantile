{
 "cells": [
  {
   "cell_type": "code",
   "execution_count": 1,
   "metadata": {
    "scrolled": true
   },
   "outputs": [
    {
     "name": "stderr",
     "output_type": "stream",
     "text": [
      "/root/miniconda3/envs/myconda/lib/python3.12/site-packages/tqdm/auto.py:21: TqdmWarning: IProgress not found. Please update jupyter and ipywidgets. See https://ipywidgets.readthedocs.io/en/stable/user_install.html\n",
      "  from .autonotebook import tqdm as notebook_tqdm\n",
      "2025-05-16 05:48:25,789\tINFO util.py:154 -- Missing packages: ['ipywidgets']. Run `pip install -U ipywidgets`, then restart the notebook server for rich notebook output.\n"
     ]
    }
   ],
   "source": [
    "import pickle\n",
    "from util_fdp import *"
   ]
  },
  {
   "cell_type": "code",
   "execution_count": 2,
   "metadata": {},
   "outputs": [],
   "source": [
    "mode='federated'\n",
    "\n",
    "T_mode='samples'  # samples / rounds\n",
    "gene_process = 'hete' # 'homo /hete' / 'hete_d'\n",
    "dist_type = 'normal'"
   ]
  },
  {
   "cell_type": "code",
   "execution_count": 3,
   "metadata": {
    "scrolled": true
   },
   "outputs": [
    {
     "name": "stdout",
     "output_type": "stream",
     "text": [
      "{10000: {0.3: {0.25: {1: np.float64(0.958), 5: np.float64(0.983), 'log': np.float64(0.992)}, 0.9: {1: np.float64(1.0), 5: np.float64(1.0), 'log': np.float64(1.0)}}, 0.5: {0.25: {1: np.float64(0.95), 5: np.float64(0.985), 'log': np.float64(0.994)}, 0.9: {1: np.float64(0.996), 5: np.float64(0.998), 'log': np.float64(1.0)}}, 0.8: {0.25: {1: np.float64(0.966), 5: np.float64(0.993), 'log': np.float64(0.994)}, 0.9: {1: np.float64(0.99), 5: np.float64(1.0), 'log': np.float64(1.0)}}}, 50000: {0.3: {0.25: {1: np.float64(0.937), 5: np.float64(0.975), 'log': np.float64(0.994)}, 0.9: {1: np.float64(0.977), 5: np.float64(0.983), 'log': np.float64(1.0)}}, 0.5: {0.25: {1: np.float64(0.958), 5: np.float64(0.986), 'log': np.float64(0.995)}, 0.9: {1: np.float64(1.0), 5: np.float64(1.0), 'log': np.float64(1.0)}}, 0.8: {0.25: {1: np.float64(0.956), 5: np.float64(0.989), 'log': np.float64(0.999)}, 0.9: {1: np.float64(1.0), 5: np.float64(1.0), 'log': np.float64(1.0)}}}}\n",
      "{10000: {0.3: {0.25: {1: np.float64(0.01840596718841153), 5: np.float64(0.03055331437315458), 'log': np.float64(0.04413412949701504)}, 0.9: {1: np.float64(0.0028672794843902357), 5: np.float64(0.004172790224590841), 'log': np.float64(0.025598567555052455)}}, 0.5: {0.25: {1: np.float64(0.016496719968210193), 5: np.float64(0.030439832632873674), 'log': np.float64(0.044492606032589206)}, 0.9: {1: np.float64(0.0025136754298339665), 5: np.float64(0.003767123988355217), 'log': np.float64(0.026793331387581772)}}, 0.8: {0.25: {1: np.float64(0.023699209630023213), 5: np.float64(0.04723412279750507), 'log': np.float64(0.07469946613402748)}, 0.9: {1: np.float64(0.004151533019568104), 5: np.float64(0.004602091982366433), 'log': np.float64(0.052484795548498095)}}}, 50000: {0.3: {0.25: {1: np.float64(0.0088894568082852), 5: np.float64(0.011276747622352118), 'log': np.float64(0.016202324266341127)}, 0.9: {1: np.float64(0.003386159076915979), 5: np.float64(0.004112139957596159), 'log': np.float64(0.006041267186980202)}}, 0.5: {0.25: {1: np.float64(0.006869287127719026), 5: np.float64(0.009723697880349009), 'log': np.float64(0.014299151845900634)}, 0.9: {1: np.float64(0.0010310785183911331), 5: np.float64(0.0011752343644802804), 'log': np.float64(0.006168670031843559)}}, 0.8: {0.25: {1: np.float64(0.01017981276149535), 5: np.float64(0.01332028755092966), 'log': np.float64(0.021636175245376168)}, 0.9: {1: np.float64(0.0013165087338656576), 5: np.float64(0.0016779054681980822), 'log': np.float64(0.01421402076825466)}}}}\n"
     ]
    }
   ],
   "source": [
    "cvg_case2 = load_pickle(f'output/case_{mode}_{T_mode}_{gene_process}_cvg.pkl')\n",
    "mae_case2 = load_pickle(f'output/case_{mode}_{T_mode}_{gene_process}_mae.pkl')\n",
    "\n",
    "print(cvg_case2)\n",
    "print(mae_case2)"
   ]
  },
  {
   "cell_type": "code",
   "execution_count": 4,
   "metadata": {},
   "outputs": [],
   "source": [
    "# print(cvg_case2)\n",
    "# print(mae_case2)"
   ]
  },
  {
   "cell_type": "code",
   "execution_count": 5,
   "metadata": {},
   "outputs": [],
   "source": [
    "def generate_combined_table(data_ci, data_mae, caption=\"Results\",\n",
    "                            label=\"tab:combined\"):\n",
    "    # 自动获取所有n值并按数字顺序排序\n",
    "    all_n = sorted(set(list(data_ci.keys()) + list(data_mae.keys())), key=int)\n",
    "    latex_code = f\"\"\n",
    "    for n in all_n:\n",
    "        # 添加n标题行\n",
    "        latex_code += f\"\\\\multicolumn{{6}}{{c}}{{\\\\textbf{{T = {n}}}}} \\\\\\\\\\n\"\n",
    "        latex_code += \"\\\\midrule\\n\"\n",
    "        \n",
    "        # 遍历所有tau和r组合\n",
    "        for tau in sorted(data_ci[n].keys(), key=float):\n",
    "            for r_val in data_ci[n][tau].keys():\n",
    "                # 生成行内容\n",
    "                row = f\"{tau} & {r_val if isinstance(r_val, str) else r_val} \"\n",
    "                \n",
    "                # 遍历所有E值\n",
    "                for e in data_ci[n][tau][r_val].keys():\n",
    "                    ci = data_ci[n][tau][r_val].get(e, \"--\")\n",
    "                    mae = data_mae[n][tau][r_val].get(e, \"--\")\n",
    "                    cell = f\"& {ci:.3f}({mae:.4f}) \" if isinstance(ci, float) and isinstance(mae, float) else \"& -- \"\n",
    "                    row += cell\n",
    "                \n",
    "                latex_code += row + \"\\\\\\\\\\n\"\n",
    "            \n",
    "            # 添加tau之间的分隔线\n",
    "            latex_code += \"\\\\hline\\n\"\n",
    "    latex_code += \"\"\"\\\\bottomrule\n",
    "\\\\end{tabular}\n",
    "\\\\end{table}\"\"\"\n",
    "    return latex_code"
   ]
  },
  {
   "cell_type": "code",
   "execution_count": 6,
   "metadata": {},
   "outputs": [],
   "source": [
    "latex_output = generate_combined_table(cvg_case2, mae_case2)\n",
    "with open(f\"output/tex_{mode}_{T_mode}_{gene_process}.tex\", \"w\") as f:\n",
    "    f.write(latex_output)"
   ]
  },
  {
   "cell_type": "markdown",
   "metadata": {},
   "source": [
    "## For Global"
   ]
  },
  {
   "cell_type": "code",
   "execution_count": 14,
   "metadata": {},
   "outputs": [],
   "source": [
    "mode='global'\n",
    "gene_process = 'homo' # 'homo /hete' / 'hete_d'\n"
   ]
  },
  {
   "cell_type": "code",
   "execution_count": 15,
   "metadata": {},
   "outputs": [
    {
     "name": "stdout",
     "output_type": "stream",
     "text": [
      "{10000: {0: {0.25: np.float64(0.979), 'hetero': np.float64(0.999), 0.9: np.float64(1.0)}, 1: {0.25: np.float64(0.975), 'hetero': np.float64(0.999), 0.9: np.float64(1.0)}, 2: {0.25: np.float64(0.986), 'hetero': np.float64(1.0), 0.9: np.float64(1.0)}}, 50000: {0: {0.25: np.float64(0.98), 'hetero': np.float64(1.0), 0.9: np.float64(1.0)}, 1: {0.25: np.float64(0.975), 'hetero': np.float64(0.999), 0.9: np.float64(1.0)}, 2: {0.25: np.float64(0.968), 'hetero': np.float64(0.983), 0.9: np.float64(0.927)}}}\n",
      "{10000: {0: {0.25: np.float64(0.06594225688624544), 'hetero': np.float64(0.029231739484614962), 0.9: np.float64(0.014233008604130112)}, 1: {0.25: np.float64(0.06854195240171665), 'hetero': np.float64(0.030863929065240117), 0.9: np.float64(0.014750660006723844)}, 2: {0.25: np.float64(0.07171200421752542), 'hetero': np.float64(0.030461311054458994), 0.9: np.float64(0.015966506917189857)}}, 50000: {0: {0.25: np.float64(0.019650075538788732), 'hetero': np.float64(0.008053381392343103), 0.9: np.float64(0.003480914675220356)}, 1: {0.25: np.float64(0.020470535584949136), 'hetero': np.float64(0.009206230038674585), 0.9: np.float64(0.005616671222656084)}, 2: {0.25: np.float64(0.024052739063887524), 'hetero': np.float64(0.014265975192592201), 0.9: np.float64(0.013420423328773804)}}}\n"
     ]
    }
   ],
   "source": [
    "cvg_case2 = load_pickle(f'output/case_{mode}_{gene_process}_cvg.pkl')\n",
    "mae_case2 = load_pickle(f'output/case_{mode}_{gene_process}_mae.pkl')\n",
    "\n",
    "print(cvg_case2)\n",
    "print(mae_case2)"
   ]
  },
  {
   "cell_type": "code",
   "execution_count": 16,
   "metadata": {},
   "outputs": [],
   "source": [
    "def generate_combined_table(data_ci, data_mae,\n",
    "                            caption=\"Results\",\n",
    "                            label=\"tab:combined\"):\n",
    "    r\"\"\"\n",
    "    生成 LaTeX 表格，行格式：\n",
    "        tau  &  r  &  ci(mae)  \\\\\n",
    "    适用于 data_ci[n][tau][r]  以及  data_mae[n][tau][r]  这种三层嵌套结构\n",
    "    \"\"\"\n",
    "\n",
    "    # ── 收集并排序所有 T ───────────────────────────────────────────\n",
    "    all_n = sorted(set(list(data_ci.keys()) + list(data_mae.keys())),\n",
    "                   key=int)\n",
    "\n",
    "    latex_code = (\n",
    "        \"\\\\begin{table}[htbp]\\n\"\n",
    "        \"\\\\centering\\n\"\n",
    "        f\"\\\\caption{{{caption}}}\\n\"\n",
    "        f\"\\\\label{{{label}}}\\n\"\n",
    "        \"\\\\begin{tabular}{lll}\\n\"   # 3 列：tau, r, ci(mae)\n",
    "        \"\\\\toprule\\n\"\n",
    "        \"τ & r & CI(MAE)\\\\\\\\\\n\"\n",
    "        \"\\\\midrule\\n\"\n",
    "    )\n",
    "\n",
    "    for n in all_n:\n",
    "        # ★ 3 列 → \\multicolumn{3}\n",
    "        latex_code += f\"\\\\multicolumn{{3}}{{c}}{{\\\\textbf{{T = {n}}}}} \\\\\\\\\\n\"\n",
    "        latex_code += \"\\\\midrule\\n\"\n",
    "\n",
    "        # 遍历 tau\n",
    "        for tau in sorted(data_ci[n].keys(), key=float):\n",
    "            # 遍历 r\n",
    "            for r_val in data_ci[n][tau].keys():\n",
    "                ci  = data_ci[n][tau].get(r_val, \"--\")\n",
    "                mae = data_mae[n][tau].get(r_val, \"--\")\n",
    "\n",
    "                cell = (\n",
    "                    f\"{ci:.3f}({mae:.4f})\"\n",
    "                    if isinstance(ci, float) and isinstance(mae, float)\n",
    "                    else \"--\"\n",
    "                )\n",
    "                row = (\n",
    "                    f\"{tau} & \"\n",
    "                    f\"{r_val if isinstance(r_val, str) else r_val} & \"\n",
    "                    f\"{cell} \\\\\\\\\"\n",
    "                )\n",
    "                latex_code += row + \"\\n\"\n",
    "\n",
    "            # tau 之间分隔线\n",
    "            latex_code += \"\\\\hline\\n\"\n",
    "\n",
    "    latex_code += (\n",
    "        \"\\\\bottomrule\\n\"\n",
    "        \"\\\\end{tabular}\\n\"\n",
    "        \"\\\\end{table}\"\n",
    "    )\n",
    "    return latex_code"
   ]
  },
  {
   "cell_type": "code",
   "execution_count": 17,
   "metadata": {},
   "outputs": [],
   "source": [
    "latex_output = generate_combined_table(cvg_case2, mae_case2)\n",
    "with open(f\"output/tex_{mode}_{gene_process}.tex\", \"w\") as f:\n",
    "    f.write(latex_output)"
   ]
  },
  {
   "cell_type": "code",
   "execution_count": null,
   "metadata": {},
   "outputs": [],
   "source": []
  }
 ],
 "metadata": {
  "kernelspec": {
   "display_name": "myconda",
   "language": "python",
   "name": "myconda"
  },
  "language_info": {
   "codemirror_mode": {
    "name": "ipython",
    "version": 3
   },
   "file_extension": ".py",
   "mimetype": "text/x-python",
   "name": "python",
   "nbconvert_exporter": "python",
   "pygments_lexer": "ipython3",
   "version": "3.12.4"
  }
 },
 "nbformat": 4,
 "nbformat_minor": 4
}
