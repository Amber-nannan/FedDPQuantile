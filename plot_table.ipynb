{
 "cells": [
  {
   "cell_type": "code",
   "execution_count": 7,
   "metadata": {
    "scrolled": true
   },
   "outputs": [],
   "source": [
    "import pickle\n",
    "from util_fdp import *"
   ]
  },
  {
   "cell_type": "code",
   "execution_count": 8,
   "metadata": {},
   "outputs": [],
   "source": [
    "mode='federated'\n",
    "T_mode='rounds'  # samples / rounds\n",
    "gene_process = 'homo' # 'homo /hete' / 'hete_d'\n"
   ]
  },
  {
   "cell_type": "code",
   "execution_count": 10,
   "metadata": {
    "scrolled": true
   },
   "outputs": [
    {
     "name": "stdout",
     "output_type": "stream",
     "text": [
      "{5000: {0: {0.25: {1: np.float64(0.954), 5: np.float64(0.974), 'log': np.float64(0.986)}, 'hetero': {1: np.float64(0.98), 5: np.float64(0.988), 'log': np.float64(0.996)}, 0.9: {1: np.float64(0.999), 5: np.float64(1.0), 'log': np.float64(1.0)}}, 1: {0.25: {1: np.float64(0.957), 5: np.float64(0.974), 'log': np.float64(0.991)}, 'hetero': {1: np.float64(0.99), 5: np.float64(0.99), 'log': np.float64(0.99)}, 0.9: {1: np.float64(1.0), 5: np.float64(1.0), 'log': np.float64(1.0)}}, 2: {0.25: {1: np.float64(0.956), 5: np.float64(0.975), 'log': np.float64(0.993)}, 'hetero': {1: np.float64(0.976), 5: np.float64(0.99), 'log': np.float64(0.995)}, 0.9: {1: np.float64(0.998), 5: np.float64(0.997), 'log': np.float64(1.0)}}}, 50000: {0: {0.25: {1: np.float64(0.956), 5: np.float64(0.975), 'log': np.float64(0.992)}, 'hetero': {1: np.float64(0.968), 5: np.float64(0.977), 'log': np.float64(0.995)}, 0.9: {1: np.float64(1.0), 5: np.float64(0.999), 'log': np.float64(0.998)}}, 1: {0.25: {1: np.float64(0.957), 5: np.float64(0.977), 'log': np.float64(0.987)}, 'hetero': {1: np.float64(0.982), 5: np.float64(0.982), 'log': np.float64(0.993)}, 0.9: {1: np.float64(1.0), 5: np.float64(0.994), 'log': np.float64(0.993)}}, 2: {0.25: {1: np.float64(0.968), 5: np.float64(0.972), 'log': np.float64(0.991)}, 'hetero': {1: np.float64(0.972), 5: np.float64(0.976), 'log': np.float64(0.998)}, 0.9: {1: np.float64(0.998), 5: np.float64(0.998), 'log': np.float64(1.0)}}}}\n",
      "{5000: {0: {0.25: {1: np.float64(0.01886863443282284), 5: np.float64(0.012850568310516128), 'log': np.float64(0.011229362485370013)}, 'hetero': {1: np.float64(0.007690415589139948), 5: np.float64(0.005531933592223044), 'log': np.float64(0.004682065953866903)}, 0.9: {1: np.float64(0.003283456162800277), 5: np.float64(0.003968371386496394), 'log': np.float64(0.0026491236485667894)}}, 1: {0.25: {1: np.float64(0.020009805382348818), 5: np.float64(0.013694452544774421), 'log': np.float64(0.011649176099849348)}, 'hetero': {1: np.float64(0.007890889412630407), 5: np.float64(0.0056895369335449135), 'log': np.float64(0.004930830001773678)}, 0.9: {1: np.float64(0.003331666189418852), 5: np.float64(0.004004007943198155), 'log': np.float64(0.0029041096081801063)}}, 2: {0.25: {1: np.float64(0.021162249813178505), 5: np.float64(0.01283982476473464), 'log': np.float64(0.01228957897827373)}, 'hetero': {1: np.float64(0.008290675728375685), 5: np.float64(0.0051288420721487), 'log': np.float64(0.005048114461213626)}, 0.9: {1: np.float64(0.003722564710463954), 5: np.float64(0.002831879844164936), 'log': np.float64(0.0030872630440389025)}}}, 50000: {0: {0.25: {1: np.float64(0.005623450101438124), 5: np.float64(0.002878224741309455), 'log': np.float64(0.0020475609364369457)}, 'hetero': {1: np.float64(0.0028435791613450542), 5: np.float64(0.0012529334373093091), 'log': np.float64(0.0007585499658914813)}, 0.9: {1: np.float64(0.0017759427188902143), 5: np.float64(0.0005744197571669143), 'log': np.float64(0.0003565814376604104)}}, 1: {0.25: {1: np.float64(0.006139959435925685), 5: np.float64(0.0029789304050091545), 'log': np.float64(0.0021051508651549855)}, 'hetero': {1: np.float64(0.0032627638603898892), 5: np.float64(0.001090701404790217), 'log': np.float64(0.0007967975214191935)}, 0.9: {1: np.float64(0.0018994233023417546), 5: np.float64(0.0004489847547144953), 'log': np.float64(0.0003946972931230552)}}, 2: {0.25: {1: np.float64(0.005927371314213123), 5: np.float64(0.003144497372443293), 'log': np.float64(0.002230465995573901)}, 'hetero': {1: np.float64(0.0024518826687152), 5: np.float64(0.0014289481221478326), 'log': np.float64(0.0008455619199022972)}, 0.9: {1: np.float64(0.0009823821192746604), 5: np.float64(0.0006406309494285667), 'log': np.float64(0.0003808175317191746)}}}}\n"
     ]
    }
   ],
   "source": [
    "cvg_case2 = load_pickle(f'output/case_{mode}_{T_mode}_{gene_process}_cvg.pkl')\n",
    "mae_case2 = load_pickle(f'output/case_{mode}_{T_mode}_{gene_process}_mae.pkl')\n",
    "\n",
    "print(cvg_case2)\n",
    "print(mae_case2)"
   ]
  },
  {
   "cell_type": "code",
   "execution_count": 11,
   "metadata": {},
   "outputs": [],
   "source": [
    "# print(cvg_case2)\n",
    "# print(mae_case2)"
   ]
  },
  {
   "cell_type": "code",
   "execution_count": 12,
   "metadata": {},
   "outputs": [],
   "source": [
    "def generate_combined_table(data_ci, data_mae, caption=\"Results\",\n",
    "                            label=\"tab:combined\"):\n",
    "    # 自动获取所有n值并按数字顺序排序\n",
    "    all_n = sorted(set(list(data_ci.keys()) + list(data_mae.keys())), key=int)\n",
    "    latex_code = f\"\"\n",
    "    for n in all_n:\n",
    "        # 添加n标题行\n",
    "        latex_code += f\"\\\\multicolumn{{6}}{{c}}{{\\\\textbf{{T = {n}}}}} \\\\\\\\\\n\"\n",
    "        latex_code += \"\\\\midrule\\n\"\n",
    "        \n",
    "        # 遍历所有tau和r组合\n",
    "        for tau in sorted(data_ci[n].keys(), key=float):\n",
    "            for r_val in data_ci[n][tau].keys():\n",
    "                # 生成行内容\n",
    "                row = f\"{tau} & {r_val if isinstance(r_val, str) else r_val} \"\n",
    "                \n",
    "                # 遍历所有E值\n",
    "                for e in data_ci[n][tau][r_val].keys():\n",
    "                    ci = data_ci[n][tau][r_val].get(e, \"--\")\n",
    "                    mae = data_mae[n][tau][r_val].get(e, \"--\")\n",
    "                    cell = f\"& {ci:.3f}({mae:.4f}) \" if isinstance(ci, float) and isinstance(mae, float) else \"& -- \"\n",
    "                    row += cell\n",
    "                \n",
    "                latex_code += row + \"\\\\\\\\\\n\"\n",
    "            \n",
    "            # 添加tau之间的分隔线\n",
    "            latex_code += \"\\\\hline\\n\"\n",
    "    latex_code += \"\"\"\\\\bottomrule\n",
    "\\\\end{tabular}\n",
    "\\\\end{table}\"\"\"\n",
    "    return latex_code"
   ]
  },
  {
   "cell_type": "code",
   "execution_count": 13,
   "metadata": {},
   "outputs": [],
   "source": [
    "latex_output = generate_combined_table(cvg_case2, mae_case2)\n",
    "with open(f\"output/tex_{mode}_{T_mode}_{gene_process}.tex\", \"w\") as f:\n",
    "    f.write(latex_output)"
   ]
  },
  {
   "cell_type": "markdown",
   "metadata": {},
   "source": [
    "## For Global"
   ]
  },
  {
   "cell_type": "code",
   "execution_count": 2,
   "metadata": {},
   "outputs": [],
   "source": [
    "mode='global'\n",
    "gene_process = 'homo' # 'homo /hete' / 'hete_d'\n"
   ]
  },
  {
   "cell_type": "code",
   "execution_count": 3,
   "metadata": {},
   "outputs": [
    {
     "name": "stdout",
     "output_type": "stream",
     "text": [
      "{10000: {0: {0.25: np.float64(0.979), 'hetero': np.float64(0.999), 0.9: np.float64(1.0)}, 1: {0.25: np.float64(0.975), 'hetero': np.float64(0.999), 0.9: np.float64(1.0)}, 2: {0.25: np.float64(0.986), 'hetero': np.float64(1.0), 0.9: np.float64(1.0)}}, 50000: {0: {0.25: np.float64(0.98), 'hetero': np.float64(1.0), 0.9: np.float64(1.0)}, 1: {0.25: np.float64(0.975), 'hetero': np.float64(0.999), 0.9: np.float64(1.0)}, 2: {0.25: np.float64(0.968), 'hetero': np.float64(0.983), 0.9: np.float64(0.927)}}}\n",
      "{10000: {0: {0.25: np.float64(0.06594225688624544), 'hetero': np.float64(0.029231739484614962), 0.9: np.float64(0.014233008604130112)}, 1: {0.25: np.float64(0.06854195240171665), 'hetero': np.float64(0.030863929065240117), 0.9: np.float64(0.014750660006723844)}, 2: {0.25: np.float64(0.07171200421752542), 'hetero': np.float64(0.030461311054458994), 0.9: np.float64(0.015966506917189857)}}, 50000: {0: {0.25: np.float64(0.019650075538788732), 'hetero': np.float64(0.008053381392343103), 0.9: np.float64(0.003480914675220356)}, 1: {0.25: np.float64(0.020470535584949136), 'hetero': np.float64(0.009206230038674585), 0.9: np.float64(0.005616671222656084)}, 2: {0.25: np.float64(0.024052739063887524), 'hetero': np.float64(0.014265975192592201), 0.9: np.float64(0.013420423328773804)}}}\n"
     ]
    }
   ],
   "source": [
    "cvg_case2 = load_pickle(f'output/case_{mode}_{gene_process}_cvg.pkl')\n",
    "mae_case2 = load_pickle(f'output/case_{mode}_{gene_process}_mae.pkl')\n",
    "\n",
    "print(cvg_case2)\n",
    "print(mae_case2)"
   ]
  },
  {
   "cell_type": "code",
   "execution_count": 4,
   "metadata": {},
   "outputs": [],
   "source": [
    "def generate_combined_table(data_ci, data_mae,\n",
    "                            caption=\"Results\",\n",
    "                            label=\"tab:combined\"):\n",
    "    r\"\"\"\n",
    "    生成 LaTeX 表格，行格式：\n",
    "        tau  &  r  &  ci(mae)  \\\\\n",
    "    适用于 data_ci[n][tau][r]  以及  data_mae[n][tau][r]  这种三层嵌套结构\n",
    "    \"\"\"\n",
    "\n",
    "    # ── 收集并排序所有 T ───────────────────────────────────────────\n",
    "    all_n = sorted(set(list(data_ci.keys()) + list(data_mae.keys())),\n",
    "                   key=int)\n",
    "\n",
    "    latex_code = (\n",
    "        \"\\\\begin{table}[htbp]\\n\"\n",
    "        \"\\\\centering\\n\"\n",
    "        f\"\\\\caption{{{caption}}}\\n\"\n",
    "        f\"\\\\label{{{label}}}\\n\"\n",
    "        \"\\\\begin{tabular}{lll}\\n\"   # 3 列：tau, r, ci(mae)\n",
    "        \"\\\\toprule\\n\"\n",
    "        \"τ & r & CI(MAE)\\\\\\\\\\n\"\n",
    "        \"\\\\midrule\\n\"\n",
    "    )\n",
    "\n",
    "    for n in all_n:\n",
    "        # ★ 3 列 → \\multicolumn{3}\n",
    "        latex_code += f\"\\\\multicolumn{{3}}{{c}}{{\\\\textbf{{T = {n}}}}} \\\\\\\\\\n\"\n",
    "        latex_code += \"\\\\midrule\\n\"\n",
    "\n",
    "        # 遍历 tau\n",
    "        for tau in sorted(data_ci[n].keys(), key=float):\n",
    "            # 遍历 r\n",
    "            for r_val in data_ci[n][tau].keys():\n",
    "                ci  = data_ci[n][tau].get(r_val, \"--\")\n",
    "                mae = data_mae[n][tau].get(r_val, \"--\")\n",
    "\n",
    "                cell = (\n",
    "                    f\"{ci:.3f}({mae:.4f})\"\n",
    "                    if isinstance(ci, float) and isinstance(mae, float)\n",
    "                    else \"--\"\n",
    "                )\n",
    "                row = (\n",
    "                    f\"{tau} & \"\n",
    "                    f\"{r_val if isinstance(r_val, str) else r_val} & \"\n",
    "                    f\"{cell} \\\\\\\\\"\n",
    "                )\n",
    "                latex_code += row + \"\\n\"\n",
    "\n",
    "            # tau 之间分隔线\n",
    "            latex_code += \"\\\\hline\\n\"\n",
    "\n",
    "    latex_code += (\n",
    "        \"\\\\bottomrule\\n\"\n",
    "        \"\\\\end{tabular}\\n\"\n",
    "        \"\\\\end{table}\"\n",
    "    )\n",
    "    return latex_code"
   ]
  },
  {
   "cell_type": "code",
   "execution_count": 5,
   "metadata": {},
   "outputs": [],
   "source": [
    "latex_output = generate_combined_table(cvg_case2, mae_case2)\n",
    "with open(f\"output/tex_{mode}_{gene_process}.tex\", \"w\") as f:\n",
    "    f.write(latex_output)"
   ]
  },
  {
   "cell_type": "code",
   "execution_count": null,
   "metadata": {},
   "outputs": [],
   "source": []
  }
 ],
 "metadata": {
  "kernelspec": {
   "display_name": "myconda",
   "language": "python",
   "name": "myconda"
  },
  "language_info": {
   "codemirror_mode": {
    "name": "ipython",
    "version": 3
   },
   "file_extension": ".py",
   "mimetype": "text/x-python",
   "name": "python",
   "nbconvert_exporter": "python",
   "pygments_lexer": "ipython3",
   "version": "3.12.4"
  }
 },
 "nbformat": 4,
 "nbformat_minor": 4
}
