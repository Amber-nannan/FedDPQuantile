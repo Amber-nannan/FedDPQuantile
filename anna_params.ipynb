{
 "cells": [
  {
   "cell_type": "markdown",
   "metadata": {},
   "source": [
    "# 读数据"
   ]
  },
  {
   "cell_type": "code",
   "execution_count": 31,
   "metadata": {},
   "outputs": [
    {
     "data": {
      "text/html": [
       "<div>\n",
       "<style scoped>\n",
       "    .dataframe tbody tr th:only-of-type {\n",
       "        vertical-align: middle;\n",
       "    }\n",
       "\n",
       "    .dataframe tbody tr th {\n",
       "        vertical-align: top;\n",
       "    }\n",
       "\n",
       "    .dataframe thead th {\n",
       "        text-align: right;\n",
       "    }\n",
       "</style>\n",
       "<table border=\"1\" class=\"dataframe\">\n",
       "  <thead>\n",
       "    <tr style=\"text-align: right;\">\n",
       "      <th></th>\n",
       "      <th>config/a</th>\n",
       "      <th>config/c</th>\n",
       "      <th>avg_cvg</th>\n",
       "      <th>avg_mae</th>\n",
       "      <th>good_ratio</th>\n",
       "      <th>combined_metric</th>\n",
       "      <th>all_results</th>\n",
       "    </tr>\n",
       "  </thead>\n",
       "  <tbody>\n",
       "    <tr>\n",
       "      <th>0</th>\n",
       "      <td>0.653609</td>\n",
       "      <td>2</td>\n",
       "      <td>0.958333</td>\n",
       "      <td>0.008647</td>\n",
       "      <td>0.222222</td>\n",
       "      <td>0.351085</td>\n",
       "      <td>[{'tau': 0.3, 'E': 1, 'T': 1000, 'cvg': 0.92, ...</td>\n",
       "    </tr>\n",
       "  </tbody>\n",
       "</table>\n",
       "</div>"
      ],
      "text/plain": [
       "   config/a  config/c   avg_cvg   avg_mae  good_ratio  combined_metric  \\\n",
       "0  0.653609         2  0.958333  0.008647    0.222222         0.351085   \n",
       "\n",
       "                                         all_results  \n",
       "0  [{'tau': 0.3, 'E': 1, 'T': 1000, 'cvg': 0.92, ...  "
      ]
     },
     "execution_count": 31,
     "metadata": {},
     "output_type": "execute_result"
    }
   ],
   "source": [
    "\n",
    "import pandas as pd\n",
    "import ast\n",
    "# r=0.25 results_avg_20250501133031\n",
    "# r=0.5 results_avg_20250507125552\n",
    "# r=0.75 results_avg_20250507200632\n",
    "# r=0.85 results_avg_20250508024111\n",
    "# r=0.9 results_avg_20250503014640\n",
    "# r=0.95 results_avg_20250508073902\n",
    "# r=1  results_avg_20250507002313\n",
    "file_path='/mnt/ray_tuning/ray_results/results_avg_20250507125552.csv'\n",
    "df = pd.read_csv(file_path)\n",
    "df = df[['config/a','config/c','avg_cvg','avg_mae','good_ratio','combined_metric','all_results']]\n",
    "df['all_results'] = df['all_results'].apply(ast.literal_eval)\n",
    "df.head(1)"
   ]
  },
  {
   "cell_type": "markdown",
   "metadata": {},
   "source": [
    "# results展开"
   ]
  },
  {
   "cell_type": "code",
   "execution_count": 32,
   "metadata": {},
   "outputs": [
    {
     "data": {
      "text/html": [
       "<div>\n",
       "<style scoped>\n",
       "    .dataframe tbody tr th:only-of-type {\n",
       "        vertical-align: middle;\n",
       "    }\n",
       "\n",
       "    .dataframe tbody tr th {\n",
       "        vertical-align: top;\n",
       "    }\n",
       "\n",
       "    .dataframe thead th {\n",
       "        text-align: right;\n",
       "    }\n",
       "</style>\n",
       "<table border=\"1\" class=\"dataframe\">\n",
       "  <thead>\n",
       "    <tr style=\"text-align: right;\">\n",
       "      <th></th>\n",
       "      <th>config/a</th>\n",
       "      <th>config/c</th>\n",
       "      <th>avg_cvg</th>\n",
       "      <th>avg_mae</th>\n",
       "      <th>good_ratio</th>\n",
       "      <th>combined_metric</th>\n",
       "      <th>tau</th>\n",
       "      <th>E</th>\n",
       "      <th>T</th>\n",
       "      <th>cvg</th>\n",
       "      <th>mae</th>\n",
       "    </tr>\n",
       "  </thead>\n",
       "  <tbody>\n",
       "    <tr>\n",
       "      <th>0</th>\n",
       "      <td>0.653609</td>\n",
       "      <td>2</td>\n",
       "      <td>0.958333</td>\n",
       "      <td>0.008647</td>\n",
       "      <td>0.222222</td>\n",
       "      <td>0.351085</td>\n",
       "      <td>0.3</td>\n",
       "      <td>1.0</td>\n",
       "      <td>1000.0</td>\n",
       "      <td>0.92</td>\n",
       "      <td>0.01803</td>\n",
       "    </tr>\n",
       "  </tbody>\n",
       "</table>\n",
       "</div>"
      ],
      "text/plain": [
       "   config/a  config/c   avg_cvg   avg_mae  good_ratio  combined_metric  tau  \\\n",
       "0  0.653609         2  0.958333  0.008647    0.222222         0.351085  0.3   \n",
       "\n",
       "     E       T   cvg      mae  \n",
       "0  1.0  1000.0  0.92  0.01803  "
      ]
     },
     "execution_count": 32,
     "metadata": {},
     "output_type": "execute_result"
    }
   ],
   "source": [
    "# 将 dict 中的键值展开为新的列\n",
    "df_expanded = df.explode('all_results')\n",
    "\n",
    "df_final = pd.concat([df_expanded.drop(['all_results'], axis=1),\n",
    "                     df_expanded['all_results'].apply(pd.Series)], axis=1)\n",
    "\n",
    "df_final = df_final.reset_index(drop=True)\n",
    "df_final.head(1)"
   ]
  },
  {
   "cell_type": "markdown",
   "metadata": {},
   "source": [
    "# 卡阈值，找最优"
   ]
  },
  {
   "cell_type": "code",
   "execution_count": 33,
   "metadata": {},
   "outputs": [
    {
     "data": {
      "text/html": [
       "<div>\n",
       "<style scoped>\n",
       "    .dataframe tbody tr th:only-of-type {\n",
       "        vertical-align: middle;\n",
       "    }\n",
       "\n",
       "    .dataframe tbody tr th {\n",
       "        vertical-align: top;\n",
       "    }\n",
       "\n",
       "    .dataframe thead th {\n",
       "        text-align: right;\n",
       "    }\n",
       "</style>\n",
       "<table border=\"1\" class=\"dataframe\">\n",
       "  <thead>\n",
       "    <tr style=\"text-align: right;\">\n",
       "      <th></th>\n",
       "      <th>T1</th>\n",
       "      <th>T2</th>\n",
       "      <th>config/a</th>\n",
       "      <th>config/c</th>\n",
       "      <th>good_ratio</th>\n",
       "      <th>good_ratio_adj_0</th>\n",
       "      <th>good_ratio_adj_1</th>\n",
       "      <th>avg_cvg</th>\n",
       "      <th>avg_mae</th>\n",
       "      <th>sample_count</th>\n",
       "    </tr>\n",
       "  </thead>\n",
       "  <tbody>\n",
       "    <tr>\n",
       "      <th>0</th>\n",
       "      <td>1000.0</td>\n",
       "      <td>2000.0</td>\n",
       "      <td>0.500776</td>\n",
       "      <td>2</td>\n",
       "      <td>0.055556</td>\n",
       "      <td>0.5</td>\n",
       "      <td>0.5</td>\n",
       "      <td>0.982222</td>\n",
       "      <td>0.010736</td>\n",
       "      <td>18</td>\n",
       "    </tr>\n",
       "  </tbody>\n",
       "</table>\n",
       "</div>"
      ],
      "text/plain": [
       "       T1      T2  config/a  config/c  good_ratio  good_ratio_adj_0  \\\n",
       "0  1000.0  2000.0  0.500776         2    0.055556               0.5   \n",
       "\n",
       "   good_ratio_adj_1   avg_cvg   avg_mae  sample_count  \n",
       "0               0.5  0.982222  0.010736            18  "
      ]
     },
     "execution_count": 33,
     "metadata": {},
     "output_type": "execute_result"
    }
   ],
   "source": [
    "# 多试几个T的组合，及cvg/mae阈值，看一下现在结果的“最优”\n",
    "import numpy as np\n",
    "from itertools import combinations\n",
    "\n",
    "T_choices = df_final['T'].unique().tolist()\n",
    "T_combinations = list(combinations(T_choices,2))\n",
    "len(T_combinations)\n",
    "\n",
    "# 定义不同的cvg/mae阈值组合\n",
    "thresholds = [\n",
    "    {'cvg': 0.92, 'mae': 0.01},  # 默认阈值\n",
    "    {'cvg': 0.90, 'mae': 0.01},\n",
    "    # {'cvg': 0.95, 'mae': 0.01},\n",
    "    # {'cvg': 0.93, 'mae': 0.007}\n",
    "]\n",
    "\n",
    "# 创建结果存储DataFrame\n",
    "results = []\n",
    "\n",
    "# 计算每个T组合和阈值下的good_ratio\n",
    "for T1, T2 in T_combinations:\n",
    "    # 筛选出特定T组合的数据\n",
    "    mask_T = (df_final['T'] == T1) | (df_final['T'] == T2)\n",
    "    df_T = df_final[mask_T]\n",
    "    \n",
    "    # 按(config/a, config/c)分组\n",
    "    grouped = df_T.groupby(['config/a', 'config/c'])\n",
    "    \n",
    "    for (config_a, config_c), group in grouped:\n",
    "        # 计算默认阈值下的good_ratio\n",
    "        good_ratio = np.mean((group['cvg'] > 0.95) & (group['mae'] < 0.005))\n",
    "        \n",
    "        # 计算不同阈值下的good_ratio_adjusted\n",
    "        good_ratios_adjusted = {}\n",
    "        for i, threshold in enumerate(thresholds):\n",
    "            ratio = np.mean((group['cvg'] > threshold['cvg']) & (group['mae'] < threshold['mae']))\n",
    "            good_ratios_adjusted[f'good_ratio_adj_{i}'] = ratio\n",
    "        \n",
    "        # 添加到结果中\n",
    "        result = {\n",
    "            'T1': T1,\n",
    "            'T2': T2,\n",
    "            'config/a': config_a,\n",
    "            'config/c': config_c,\n",
    "            'good_ratio': good_ratio,\n",
    "            **good_ratios_adjusted,\n",
    "            'avg_cvg': group['cvg'].mean(),\n",
    "            'avg_mae': group['mae'].mean(),\n",
    "            'sample_count': len(group)\n",
    "        }\n",
    "        results.append(result)\n",
    "\n",
    "# 创建结果DataFrame\n",
    "df_analysis = pd.DataFrame(results)\n",
    "df_analysis.head(1)"
   ]
  },
  {
   "cell_type": "markdown",
   "metadata": {},
   "source": [
    "# 画最优分布图"
   ]
  },
  {
   "cell_type": "code",
   "execution_count": 34,
   "metadata": {},
   "outputs": [
    {
     "data": {
      "image/png": "[encoded data removed]",
      "text/plain": [
       "<Figure size 1000x600 with 1 Axes>"
      ]
     },
     "metadata": {},
     "output_type": "display_data"
    },
    {
     "name": "stdout",
     "output_type": "stream",
     "text": [
      "good_ratio_adj_1 的基本统计信息:\n",
      "count    750.000000\n",
      "mean       0.471111\n",
      "std        0.209776\n",
      "min        0.000000\n",
      "25%        0.333333\n",
      "50%        0.444444\n",
      "75%        0.666667\n",
      "max        1.000000\n",
      "Name: good_ratio_adj_1, dtype: float64\n"
     ]
    }
   ],
   "source": [
    "# 绘制 good_ratio_adj_1 的分布图\n",
    "import matplotlib.pyplot as plt\n",
    "import seaborn as sns\n",
    "\n",
    "# 设置中文字体支持\n",
    "plt.rcParams['font.sans-serif'] = ['SimHei']  # 用来正常显示中文标签\n",
    "plt.rcParams['axes.unicode_minus'] = False  # 用来正常显示负号\n",
    "\n",
    "plt.figure(figsize=(10, 6))\n",
    "sns.histplot(df_analysis['good_ratio_adj_0'], kde=True, bins=30)\n",
    "plt.title('good_ratio_adj_1 分布图')\n",
    "plt.xlabel('good_ratio_adj_1')\n",
    "plt.ylabel('频数')\n",
    "plt.grid(True, linestyle='--', alpha=0.7)\n",
    "\n",
    "plt.show()\n",
    "# 输出一些基本统计信息\n",
    "print(\"good_ratio_adj_1 的基本统计信息:\")\n",
    "print(df_analysis['good_ratio_adj_1'].describe())"
   ]
  },
  {
   "cell_type": "code",
   "execution_count": 35,
   "metadata": {},
   "outputs": [
    {
     "name": "stdout",
     "output_type": "stream",
     "text": [
      "good_ratio_adj_1 第二大值所在行的数据:\n",
      "T1                  10000.000000\n",
      "T2                  50000.000000\n",
      "config/a                0.559866\n",
      "config/c                1.000000\n",
      "good_ratio              0.611111\n",
      "good_ratio_adj_0        0.888889\n",
      "good_ratio_adj_1        0.888889\n",
      "avg_cvg                 0.955000\n",
      "avg_mae                 0.003416\n",
      "sample_count           18.000000\n",
      "Name: 662, dtype: float64\n"
     ]
    }
   ],
   "source": [
    "# 找出 good_ratio_adj_1 第二大值所在行的数据\n",
    "sorted_df = df_analysis.sort_values(by='good_ratio_adj_0', ascending=False)\n",
    "second_max_row = sorted_df.iloc[0]  # 获取排序后的第二行\n",
    "print(\"good_ratio_adj_1 第二大值所在行的数据:\")\n",
    "print(second_max_row)\n"
   ]
  },
  {
   "cell_type": "code",
   "execution_count": 36,
   "metadata": {},
   "outputs": [
    {
     "name": "stdout",
     "output_type": "stream",
     "text": [
      "r_zero_point_five_top_n_results\n",
      "\n",
      "Excel文件已保存\n"
     ]
    }
   ],
   "source": [
    "import pandas as pd\n",
    "from openpyxl import Workbook\n",
    "from openpyxl.utils.dataframe import dataframe_to_rows\n",
    "\n",
    "# 定义结果文件名称映射字典\n",
    "result_file_mapping = {\n",
    "    'results_avg_20250501133031': 'r_zero_point_two_five_top_n_results',\n",
    "    'results_avg_20250507125552': 'r_zero_point_five_top_n_results',\n",
    "    'results_avg_20250507200632': 'r_zero_point_seven_five_top_n_results',\n",
    "    'results_avg_20250508024111': 'r_zero_point_eight_five_top_n_results',\n",
    "    'results_avg_20250503014640': 'r_zero_point_nine_top_n_results',\n",
    "    'results_avg_20250508073902': 'r_zero_point_nine_five_top_n_results',\n",
    "    'results_avg_20250507002313': 'r_one_top_n_results'\n",
    "}\n",
    "\n",
    "file_map_key = file_path.split('/')[-1].split('.')[0]\n",
    "file_map_value = result_file_mapping[file_map_key]\n",
    "\n",
    "# 获取sorted_df中的前五行\n",
    "top_5_rows = sorted_df.head(10)\n",
    "\n",
    "# 创建一个Excel写入器\n",
    "excel_writer = pd.ExcelWriter(f'/mnt/ray_tuning/{file_map_value}.xlsx', engine='openpyxl')\n",
    "print(file_map_value)\n",
    "# 用于存储统计数据的列表\n",
    "stats_data = []\n",
    "\n",
    "# 为每个配置创建单独的sheet\n",
    "for i, (idx, row) in enumerate(top_5_rows.iterrows(), 1):\n",
    "    # 获取该配置的参数\n",
    "    T1 = row['T1']\n",
    "    T2 = row['T2']\n",
    "    config_a = row['config/a']\n",
    "    config_c = row['config/c']\n",
    "    \n",
    "    # 筛选出符合条件的数据\n",
    "    filtered_data = df_final[\n",
    "        ((df_final['T'] == T1) | (df_final['T'] == T2)) & \n",
    "        (df_final['config/a'] == config_a) & \n",
    "        (df_final['config/c'] == config_c)\n",
    "    ]\n",
    "    \n",
    "    # 选择需要的列\n",
    "    selected_columns = ['T', 'config/a', 'config/c', 'tau', 'E', 'cvg', 'mae']\n",
    "    result_table = filtered_data[selected_columns].copy()\n",
    "    \n",
    "    # 计算统计值\n",
    "    avg_cvg = result_table['cvg'].mean()\n",
    "    avg_mae = result_table['mae'].mean()\n",
    "    good_ratio_adjusted_0 = ((result_table['cvg'] > 0.90) & (result_table['mae'] < 0.01)).mean()\n",
    "    \n",
    "    # 将统计数据添加到列表\n",
    "    stats_data.append({\n",
    "        'Sheet': f'Config_{i}',\n",
    "        'T1': T1,\n",
    "        'T2': T2,\n",
    "        'config/a': config_a,\n",
    "        'config/c': config_c,\n",
    "        'avg_cvg': avg_cvg,\n",
    "        'avg_mae': avg_mae,\n",
    "        'good_ratio_adjusted_0': good_ratio_adjusted_0\n",
    "    })\n",
    "    \n",
    "    # 将数据写入Excel\n",
    "    sheet_name = f'Config_{i}'\n",
    "    result_table = result_table.sort_values(['T','tau','E'])\n",
    "    result_table.to_excel(excel_writer, sheet_name=sheet_name, index=False)\n",
    "\n",
    "# 创建统计数据的DataFrame\n",
    "stats_df = pd.DataFrame(stats_data)\n",
    "\n",
    "# 将统计数据写入Excel的最后一个sheet\n",
    "stats_df.to_excel(excel_writer, sheet_name='Statistics', index=False)\n",
    "\n",
    "# 保存Excel文件\n",
    "excel_writer.close()\n",
    "\n",
    "print(\"\\nExcel文件已保存\")"
   ]
  },
  {
   "cell_type": "code",
   "execution_count": null,
   "metadata": {},
   "outputs": [],
   "source": []
  }
 ],
 "metadata": {
  "kernelspec": {
   "display_name": "myconda",
   "language": "python",
   "name": "myconda"
  }
 },
 "nbformat": 4,
 "nbformat_minor": 2
}
